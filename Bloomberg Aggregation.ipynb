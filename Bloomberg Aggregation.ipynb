{
 "cells": [
  {
   "cell_type": "code",
   "execution_count": 1,
   "metadata": {
    "collapsed": true
   },
   "outputs": [],
   "source": [
    "# Importing packages\n",
    "\n",
    "import time\n",
    "import datetime\n",
    "import csv\n",
    "import pandas as pd\n",
    "import numpy as np"
   ]
  },
  {
   "cell_type": "code",
   "execution_count": 2,
   "metadata": {
    "collapsed": false,
    "scrolled": true
   },
   "outputs": [
    {
     "name": "stdout",
     "output_type": "stream",
     "text": [
      "                Company       Domicile      Ticker Type Any Values?  1995  \\\n",
      "0    (CA)SUPERIOR COURT            NaN         NaN  NaN         BAD   0.0   \n",
      "1     (CO)SUPREME COURT  United States  313372L US    P         BAD   0.0   \n",
      "2  (IDN)MINISTRY OF FIN      Indonesia    1133Z IJ    U         BAD   0.0   \n",
      "3  (IDN)OFFICE OF THE P            NaN         NaN  NaN         BAD   0.0   \n",
      "4  (ISR)OFFICE OF PRIME            NaN         NaN  NaN         BAD   0.0   \n",
      "\n",
      "   1996  1997  1998  1999  ...   2007  2008  2009  2010  2011  2012  2013  \\\n",
      "0   0.0   0.0   0.0   0.0  ...    0.0   0.0   0.0   0.0   0.0   0.0   0.0   \n",
      "1   0.0   0.0   0.0   0.0  ...    0.0   0.0   0.0   0.0   0.0   0.0   0.0   \n",
      "2   0.0   0.0   0.0   0.0  ...    0.0   0.0   0.0   0.0   0.0   0.0   0.0   \n",
      "3   0.0   0.0   0.0   0.0  ...    0.0   0.0   0.0   0.0   0.0   0.0   0.0   \n",
      "4   0.0   0.0   0.0   0.0  ...    0.0   0.0   0.0   0.0   0.0   0.0   0.0   \n",
      "\n",
      "   2014  2015  2016  \n",
      "0   0.0   0.0   0.0  \n",
      "1   0.0   0.0   0.0  \n",
      "2   0.0   0.0   0.0  \n",
      "3   0.0   0.0   0.0  \n",
      "4   0.0   0.0   0.0  \n",
      "\n",
      "[5 rows x 27 columns]\n"
     ]
    }
   ],
   "source": [
    "# Importing income_year\n",
    "\n",
    "income_year = pd.read_csv(\"Bloomberg/income_year.csv\", encoding='ISO-8859-1')\n",
    "print(income_year.head())"
   ]
  },
  {
   "cell_type": "code",
   "execution_count": 3,
   "metadata": {
    "collapsed": false
   },
   "outputs": [
    {
     "name": "stdout",
     "output_type": "stream",
     "text": [
      "   No               Company  Company ID\n",
      "0   0    (CA)SUPERIOR COURT           0\n",
      "1   1     (CO)SUPREME COURT           1\n",
      "2   2  (IDN)MINISTRY OF FIN           2\n",
      "3   3  (IDN)OFFICE OF THE P           3\n",
      "4   4  (ISR)OFFICE OF PRIME           4\n"
     ]
    }
   ],
   "source": [
    "# Importing Company-ID dictionary\n",
    "\n",
    "dictionary = pd.read_csv(\"Merged/real_companies_dict.csv\", encoding='ISO-8859-1')\n",
    "dictionary.columns = ['No', 'Company', 'Company ID']\n",
    "print(dictionary.head())"
   ]
  },
  {
   "cell_type": "code",
   "execution_count": 4,
   "metadata": {
    "collapsed": false
   },
   "outputs": [
    {
     "name": "stdout",
     "output_type": "stream",
     "text": [
      "   Company ID       Domicile      Ticker Type Any Values?  1995  1996  1997  \\\n",
      "0           0            NaN         NaN  NaN         BAD   0.0   0.0   0.0   \n",
      "1           1  United States  313372L US    P         BAD   0.0   0.0   0.0   \n",
      "2           2      Indonesia    1133Z IJ    U         BAD   0.0   0.0   0.0   \n",
      "3           3            NaN         NaN  NaN         BAD   0.0   0.0   0.0   \n",
      "4           4            NaN         NaN  NaN         BAD   0.0   0.0   0.0   \n",
      "\n",
      "   1998  1999  ...   2007  2008  2009  2010  2011  2012  2013  2014  2015  \\\n",
      "0   0.0   0.0  ...    0.0   0.0   0.0   0.0   0.0   0.0   0.0   0.0   0.0   \n",
      "1   0.0   0.0  ...    0.0   0.0   0.0   0.0   0.0   0.0   0.0   0.0   0.0   \n",
      "2   0.0   0.0  ...    0.0   0.0   0.0   0.0   0.0   0.0   0.0   0.0   0.0   \n",
      "3   0.0   0.0  ...    0.0   0.0   0.0   0.0   0.0   0.0   0.0   0.0   0.0   \n",
      "4   0.0   0.0  ...    0.0   0.0   0.0   0.0   0.0   0.0   0.0   0.0   0.0   \n",
      "\n",
      "   2016  \n",
      "0   0.0  \n",
      "1   0.0  \n",
      "2   0.0  \n",
      "3   0.0  \n",
      "4   0.0  \n",
      "\n",
      "[5 rows x 27 columns]\n"
     ]
    }
   ],
   "source": [
    "# Substituting Company name with its ID\n",
    "\n",
    "income_year = pd.merge(income_year, dictionary, how='outer')\n",
    "del income_year['Company']\n",
    "del income_year['No']\n",
    "cols = list(income_year)\n",
    "cols.insert(0, cols.pop(cols.index('Company ID')))\n",
    "income_year = income_year.ix[:, cols]\n",
    "print(income_year.head())"
   ]
  },
  {
   "cell_type": "code",
   "execution_count": 5,
   "metadata": {
    "collapsed": false,
    "scrolled": false
   },
   "outputs": [],
   "source": [
    "income_year = income_year.values.tolist()\n",
    "#print(income_year)"
   ]
  },
  {
   "cell_type": "code",
   "execution_count": 39,
   "metadata": {
    "collapsed": false
   },
   "outputs": [],
   "source": [
    "# Creating a list of all links with ONLY their characteristics\n",
    "\n",
    "final = []\n",
    "for i in range(0, len(income_year)):\n",
    "    for j in range(i+1, len(income_year)):\n",
    "#for i in range(0, 30):\n",
    "#    for j in range(i+1, 30):\n",
    "        common_dom = 0\n",
    "        # Adding Common Domicile\n",
    "        if str(income_year[i][1]) != 'nan' and str(income_year[j][1]) != 'nan':\n",
    "            if income_year[i][1] == income_year[j][1]:\n",
    "                common_dom = 1         \n",
    "        final.append([income_year[i][0], income_year[j][0], income_year[i][3], income_year[j][3], common_dom])"
   ]
  },
  {
   "cell_type": "code",
   "execution_count": 41,
   "metadata": {
    "collapsed": false
   },
   "outputs": [
    {
     "name": "stdout",
     "output_type": "stream",
     "text": [
      "15420681\n",
      "15420681\n",
      "   Company 1  Company 2 Company 1 Type Company 2 Type  Common Domicile?\n",
      "0          0          1            NaN              P                 0\n",
      "1          0          2            NaN              U                 0\n",
      "2          0          3            NaN            NaN                 0\n",
      "3          0          4            NaN            NaN                 0\n",
      "4          0          5            NaN            NaN                 0\n"
     ]
    }
   ],
   "source": [
    "# Removing duplicates\n",
    "\n",
    "final = pd.DataFrame(final, columns = [\"Company 1\", \"Company 2\", \"Company 1 Type\", \"Company 2 Type\", \"Common Domicile?\"])\n",
    "print('Before:', len(final))\n",
    "final = final[~final.duplicated()]\n",
    "print('After:', len(final))\n",
    "print(final.head())"
   ]
  },
  {
   "cell_type": "code",
   "execution_count": 42,
   "metadata": {
    "collapsed": true
   },
   "outputs": [],
   "source": [
    "# Exporting regression table with only basic information\n",
    "\n",
    "final.to_csv('Regressions/regression_table_info.csv')"
   ]
  },
  {
   "cell_type": "code",
   "execution_count": 93,
   "metadata": {
    "collapsed": false
   },
   "outputs": [],
   "source": [
    "# Importing BACK the final regression table\n",
    "\n",
    "final = pd.read_csv(\"Regressions/regression_table_info.csv\", encoding='ISO-8859-1', index_col = 0)"
   ]
  },
  {
   "cell_type": "code",
   "execution_count": 94,
   "metadata": {
    "collapsed": false
   },
   "outputs": [
    {
     "name": "stdout",
     "output_type": "stream",
     "text": [
      "15420681\n",
      "   Company 1  Company 2 Company 1 Type Company 2 Type  Common Domicile?\n",
      "0          0          1            NaN              P                 0\n",
      "1          0          2            NaN              U                 0\n",
      "2          0          3            NaN            NaN                 0\n",
      "3          0          4            NaN            NaN                 0\n",
      "4          0          5            NaN            NaN                 0\n"
     ]
    }
   ],
   "source": [
    "print(len(final))\n",
    "print(final.head())"
   ]
  },
  {
   "cell_type": "code",
   "execution_count": 95,
   "metadata": {
    "collapsed": false
   },
   "outputs": [
    {
     "name": "stdout",
     "output_type": "stream",
     "text": [
      "Direct:\n",
      "   Company 1  Company 2  Direct Link?\n",
      "0       5025       1874             1\n",
      "1       5025       1137             1\n",
      "2       5025       4753             1\n",
      "3       1874       5025             1\n",
      "4       1874       1137             1\n",
      " \n",
      "Hidden:\n",
      "   Company 1  Company 2  Hidden Link?\n",
      "0       4822       3465             1\n",
      "1       4822       4353             1\n",
      "2       4822       3577             1\n",
      "3       1773       3465             1\n",
      "4       1773       4353             1\n"
     ]
    }
   ],
   "source": [
    "# Importing direct and hidden relationships and adding a column with ones\n",
    "\n",
    "direct = pd.read_csv(\"Merged/direct_connections.csv\", encoding='ISO-8859-1')\n",
    "del direct['Unnamed: 0']\n",
    "direct.columns = ['Company 1', 'Company 2']\n",
    "direct['Direct Link?'] = [1] * len(direct)\n",
    "print('Direct:')\n",
    "print(direct.head())\n",
    "\n",
    "print(' ')\n",
    "\n",
    "hidden = pd.read_csv(\"Merged/hidden_connections.csv\", encoding='ISO-8859-1')\n",
    "del hidden['Unnamed: 0']\n",
    "hidden.columns = ['Company 1', 'Company 2']\n",
    "hidden['Hidden Link?'] = [1] * len(hidden)\n",
    "print('Hidden:')\n",
    "print(hidden.head())"
   ]
  },
  {
   "cell_type": "code",
   "execution_count": 96,
   "metadata": {
    "collapsed": false
   },
   "outputs": [
    {
     "name": "stdout",
     "output_type": "stream",
     "text": [
      "Before: 15420681 48676\n",
      "After: 15420681\n",
      "   Company 1  Company 2 Company 1 Type Company 2 Type  Common Domicile?  \\\n",
      "0          0          1            NaN              P                 0   \n",
      "1          0          2            NaN              U                 0   \n",
      "2          0          3            NaN            NaN                 0   \n",
      "3          0          4            NaN            NaN                 0   \n",
      "4          0          5            NaN            NaN                 0   \n",
      "\n",
      "   Direct Link?  \n",
      "0           NaN  \n",
      "1           NaN  \n",
      "2           NaN  \n",
      "3           NaN  \n",
      "4           NaN  \n",
      "Sum: 24338.0\n",
      "Sum: 24338\n",
      "   Company 1  Company 2 Company 1 Type Company 2 Type  Common Domicile?  \\\n",
      "0          0          1            NaN              P                 0   \n",
      "1          0          2            NaN              U                 0   \n",
      "2          0          3            NaN            NaN                 0   \n",
      "3          0          4            NaN            NaN                 0   \n",
      "4          0          5            NaN            NaN                 0   \n",
      "\n",
      "   Direct Link?  \n",
      "0             0  \n",
      "1             0  \n",
      "2             0  \n",
      "3             0  \n",
      "4             0  \n"
     ]
    }
   ],
   "source": [
    "# Adding DIRECT relationships to the regression table\n",
    "\n",
    "print('Before:', len(final), len(direct))\n",
    "final = pd.merge(final, direct, how='left', on=['Company 1', 'Company 2'])\n",
    "print('After:', len(final))\n",
    "print(final.head())\n",
    "print('Sum:', final['Direct Link?'].sum())\n",
    "final['Direct Link?'] = np.where(final['Direct Link?'].isnull(), 0, 1)\n",
    "print('Sum:', final['Direct Link?'].sum())\n",
    "print(final.head())"
   ]
  },
  {
   "cell_type": "code",
   "execution_count": 97,
   "metadata": {
    "collapsed": false
   },
   "outputs": [
    {
     "name": "stdout",
     "output_type": "stream",
     "text": [
      "Before: 15420681 19492\n",
      "After: 15420681\n",
      "   Company 1  Company 2 Company 1 Type Company 2 Type  Common Domicile?  \\\n",
      "0          0          1            NaN              P                 0   \n",
      "1          0          2            NaN              U                 0   \n",
      "2          0          3            NaN            NaN                 0   \n",
      "3          0          4            NaN            NaN                 0   \n",
      "4          0          5            NaN            NaN                 0   \n",
      "\n",
      "   Direct Link?  Hidden Link?  \n",
      "0             0           NaN  \n",
      "1             0           NaN  \n",
      "2             0           NaN  \n",
      "3             0           NaN  \n",
      "4             0           NaN  \n",
      "Sum: 9744.0\n",
      "Sum: 9744\n",
      "   Company 1  Company 2 Company 1 Type Company 2 Type  Common Domicile?  \\\n",
      "0          0          1            NaN              P                 0   \n",
      "1          0          2            NaN              U                 0   \n",
      "2          0          3            NaN            NaN                 0   \n",
      "3          0          4            NaN            NaN                 0   \n",
      "4          0          5            NaN            NaN                 0   \n",
      "\n",
      "   Direct Link?  Hidden Link?  \n",
      "0             0             0  \n",
      "1             0             0  \n",
      "2             0             0  \n",
      "3             0             0  \n",
      "4             0             0  \n"
     ]
    }
   ],
   "source": [
    "# Adding HIDDEN relationships to the regression table\n",
    "\n",
    "print('Before:', len(final), len(hidden))\n",
    "final = pd.merge(final, hidden, how='left', on=['Company 1', 'Company 2'])\n",
    "print('After:', len(final))\n",
    "print(final.head())\n",
    "print('Sum:', final['Hidden Link?'].sum())\n",
    "final['Hidden Link?'] = np.where(final['Hidden Link?'].isnull(), 0, 1)\n",
    "print('Sum:', final['Hidden Link?'].sum())\n",
    "print(final.head())"
   ]
  },
  {
   "cell_type": "code",
   "execution_count": 98,
   "metadata": {
    "collapsed": false
   },
   "outputs": [
    {
     "name": "stdout",
     "output_type": "stream",
     "text": [
      "    0   1   2   3   4   5   6   7   8   9  ...   5544  5545  5546  5547  5548  \\\n",
      "0 NaN NaN NaN NaN NaN NaN NaN NaN NaN NaN  ...    NaN   NaN   NaN   NaN   NaN   \n",
      "1 NaN NaN NaN NaN NaN NaN NaN NaN NaN NaN  ...    NaN   NaN   NaN   NaN   NaN   \n",
      "2 NaN NaN NaN NaN NaN NaN NaN NaN NaN NaN  ...    NaN   NaN   NaN   NaN   NaN   \n",
      "3 NaN NaN NaN NaN NaN NaN NaN NaN NaN NaN  ...    NaN   NaN   NaN   NaN   NaN   \n",
      "4 NaN NaN NaN NaN NaN NaN NaN NaN NaN NaN  ...    NaN   NaN   NaN   NaN   NaN   \n",
      "\n",
      "   5549  5550  5551  5552  5553  \n",
      "0   NaN   NaN   NaN   NaN   NaN  \n",
      "1   NaN   NaN   NaN   NaN   NaN  \n",
      "2   NaN   NaN   NaN   NaN   NaN  \n",
      "3   NaN   NaN   NaN   NaN   NaN  \n",
      "4   NaN   NaN   NaN   NaN   NaN  \n",
      "\n",
      "[5 rows x 5554 columns]\n"
     ]
    }
   ],
   "source": [
    "# Importing income_correlations_year\n",
    "\n",
    "income_matrix = pd.read_csv(\"Bloomberg/income_correlations_year.csv\", encoding='ISO-8859-1', index_col = 0)\n",
    "print(income_matrix.head())"
   ]
  },
  {
   "cell_type": "code",
   "execution_count": 99,
   "metadata": {
    "collapsed": false
   },
   "outputs": [
    {
     "name": "stdout",
     "output_type": "stream",
     "text": [
      "15420681\n",
      "15420681.0\n",
      "5554\n"
     ]
    }
   ],
   "source": [
    "print(len(final))\n",
    "print((len(income_matrix)-1)*len(income_matrix)/2)\n",
    "print(len(income_matrix))"
   ]
  },
  {
   "cell_type": "code",
   "execution_count": 87,
   "metadata": {
    "collapsed": false
   },
   "outputs": [
    {
     "name": "stdout",
     "output_type": "stream",
     "text": [
      "1.0\n",
      "0.364229386142\n",
      "0.364229386142\n",
      "15420681\n"
     ]
    }
   ],
   "source": [
    "# Creating a list of year correlations and adding it to the regression table - VERY LONG!\n",
    "\n",
    "income_matrix_list = []\n",
    "for i in range(len(income_matrix)-1):\n",
    "    for j in range(i+1, len(income_matrix)):\n",
    "        income_matrix_list.append(income_matrix[str(i)].loc[j])\n",
    "print(len(income_matrix_list))"
   ]
  },
  {
   "cell_type": "code",
   "execution_count": 100,
   "metadata": {
    "collapsed": true
   },
   "outputs": [],
   "source": [
    "final['Income Year Corrs'] = income_matrix_list\n",
    "final.to_csv(\"Regressions/regression_table_python.csv\")"
   ]
  },
  {
   "cell_type": "code",
   "execution_count": 101,
   "metadata": {
    "collapsed": false
   },
   "outputs": [
    {
     "name": "stderr",
     "output_type": "stream",
     "text": [
      "//anaconda/lib/python3.5/site-packages/IPython/core/interactiveshell.py:2723: DtypeWarning: Columns (3) have mixed types. Specify dtype option on import or set low_memory=False.\n",
      "  interactivity=interactivity, compiler=compiler, result=result)\n"
     ]
    },
    {
     "name": "stdout",
     "output_type": "stream",
     "text": [
      "   Company 1  Company 2 Company 1 Type Company 2 Type  Common Domicile?  \\\n",
      "0          0          1            NaN              P                 0   \n",
      "1          0          2            NaN              U                 0   \n",
      "2          0          3            NaN            NaN                 0   \n",
      "3          0          4            NaN            NaN                 0   \n",
      "4          0          5            NaN            NaN                 0   \n",
      "\n",
      "   Direct Link?  Hidden Link?  Income Year Corrs  \n",
      "0             0             0                NaN  \n",
      "1             0             0                NaN  \n",
      "2             0             0                NaN  \n",
      "3             0             0                NaN  \n",
      "4             0             0                NaN  \n"
     ]
    }
   ],
   "source": [
    "# Importing BACK the final regression table\n",
    "\n",
    "final = pd.read_csv(\"Regressions/regression_table_python.csv\", encoding='ISO-8859-1', index_col = 0)\n",
    "print(final.head())"
   ]
  },
  {
   "cell_type": "code",
   "execution_count": 102,
   "metadata": {
    "collapsed": false
   },
   "outputs": [
    {
     "name": "stdout",
     "output_type": "stream",
     "text": [
      "    0   1   2   3   4   5   6   7   8   9  ...   5544  5545  5546  5547  5548  \\\n",
      "0 NaN NaN NaN NaN NaN NaN NaN NaN NaN NaN  ...    NaN   NaN   NaN   NaN   NaN   \n",
      "1 NaN NaN NaN NaN NaN NaN NaN NaN NaN NaN  ...    NaN   NaN   NaN   NaN   NaN   \n",
      "2 NaN NaN NaN NaN NaN NaN NaN NaN NaN NaN  ...    NaN   NaN   NaN   NaN   NaN   \n",
      "3 NaN NaN NaN NaN NaN NaN NaN NaN NaN NaN  ...    NaN   NaN   NaN   NaN   NaN   \n",
      "4 NaN NaN NaN NaN NaN NaN NaN NaN NaN NaN  ...    NaN   NaN   NaN   NaN   NaN   \n",
      "\n",
      "   5549  5550  5551  5552  5553  \n",
      "0   NaN   NaN   NaN   NaN   NaN  \n",
      "1   NaN   NaN   NaN   NaN   NaN  \n",
      "2   NaN   NaN   NaN   NaN   NaN  \n",
      "3   NaN   NaN   NaN   NaN   NaN  \n",
      "4   NaN   NaN   NaN   NaN   NaN  \n",
      "\n",
      "[5 rows x 5554 columns]\n"
     ]
    }
   ],
   "source": [
    "# Importing ebit_correlations_year\n",
    "\n",
    "ebit_matrix = pd.read_csv(\"Bloomberg/ebit_correlations_year.csv\", encoding='ISO-8859-1', index_col = 0)\n",
    "print(ebit_matrix.head())"
   ]
  },
  {
   "cell_type": "code",
   "execution_count": 103,
   "metadata": {
    "collapsed": false
   },
   "outputs": [
    {
     "name": "stdout",
     "output_type": "stream",
     "text": [
      "15420681\n",
      "15420681.0\n",
      "5554\n"
     ]
    }
   ],
   "source": [
    "print(len(final))\n",
    "print((len(ebit_matrix)-1)*len(ebit_matrix)/2)\n",
    "print(len(ebit_matrix))"
   ]
  },
  {
   "cell_type": "code",
   "execution_count": 104,
   "metadata": {
    "collapsed": false
   },
   "outputs": [
    {
     "name": "stdout",
     "output_type": "stream",
     "text": [
      "15420681\n"
     ]
    }
   ],
   "source": [
    "# Creating a list of year correlations and adding it to the regression table - VERY LONG!\n",
    "\n",
    "ebit_matrix_list = []\n",
    "for i in range(len(ebit_matrix)-1):\n",
    "    for j in range(i+1, len(ebit_matrix)):\n",
    "        ebit_matrix_list.append(ebit_matrix[str(i)].loc[j])\n",
    "print(len(ebit_matrix_list))"
   ]
  },
  {
   "cell_type": "code",
   "execution_count": 105,
   "metadata": {
    "collapsed": true
   },
   "outputs": [],
   "source": [
    "final['EBIT Year Corrs'] = ebit_matrix_list\n",
    "final.to_csv(\"Regressions/regression_table_python.csv\")"
   ]
  },
  {
   "cell_type": "code",
   "execution_count": 106,
   "metadata": {
    "collapsed": false
   },
   "outputs": [
    {
     "name": "stderr",
     "output_type": "stream",
     "text": [
      "//anaconda/lib/python3.5/site-packages/IPython/core/interactiveshell.py:2723: DtypeWarning: Columns (3) have mixed types. Specify dtype option on import or set low_memory=False.\n",
      "  interactivity=interactivity, compiler=compiler, result=result)\n"
     ]
    },
    {
     "name": "stdout",
     "output_type": "stream",
     "text": [
      "   Company 1  Company 2 Company 1 Type Company 2 Type  Common Domicile?  \\\n",
      "0          0          1            NaN              P                 0   \n",
      "1          0          2            NaN              U                 0   \n",
      "2          0          3            NaN            NaN                 0   \n",
      "3          0          4            NaN            NaN                 0   \n",
      "4          0          5            NaN            NaN                 0   \n",
      "\n",
      "   Direct Link?  Hidden Link?  Income Year Corrs  EBIT Year Corrs  \n",
      "0             0             0                NaN              NaN  \n",
      "1             0             0                NaN              NaN  \n",
      "2             0             0                NaN              NaN  \n",
      "3             0             0                NaN              NaN  \n",
      "4             0             0                NaN              NaN  \n"
     ]
    }
   ],
   "source": [
    "# Importing BACK the final regression table\n",
    "\n",
    "final = pd.read_csv(\"Regressions/regression_table_python.csv\", encoding='ISO-8859-1', index_col = 0)\n",
    "print(final.head())"
   ]
  },
  {
   "cell_type": "code",
   "execution_count": 107,
   "metadata": {
    "collapsed": false
   },
   "outputs": [
    {
     "name": "stdout",
     "output_type": "stream",
     "text": [
      "    0   1   2   3   4   5   6   7   8   9  ...   5544  5545  5546  5547  5548  \\\n",
      "0 NaN NaN NaN NaN NaN NaN NaN NaN NaN NaN  ...    NaN   NaN   NaN   NaN   NaN   \n",
      "1 NaN NaN NaN NaN NaN NaN NaN NaN NaN NaN  ...    NaN   NaN   NaN   NaN   NaN   \n",
      "2 NaN NaN NaN NaN NaN NaN NaN NaN NaN NaN  ...    NaN   NaN   NaN   NaN   NaN   \n",
      "3 NaN NaN NaN NaN NaN NaN NaN NaN NaN NaN  ...    NaN   NaN   NaN   NaN   NaN   \n",
      "4 NaN NaN NaN NaN NaN NaN NaN NaN NaN NaN  ...    NaN   NaN   NaN   NaN   NaN   \n",
      "\n",
      "   5549  5550  5551  5552  5553  \n",
      "0   NaN   NaN   NaN   NaN   NaN  \n",
      "1   NaN   NaN   NaN   NaN   NaN  \n",
      "2   NaN   NaN   NaN   NaN   NaN  \n",
      "3   NaN   NaN   NaN   NaN   NaN  \n",
      "4   NaN   NaN   NaN   NaN   NaN  \n",
      "\n",
      "[5 rows x 5554 columns]\n"
     ]
    }
   ],
   "source": [
    "# Importing ebitda_correlations_year\n",
    "\n",
    "ebitda_matrix = pd.read_csv(\"Bloomberg/ebitda_correlations_year.csv\", encoding='ISO-8859-1', index_col = 0)\n",
    "print(ebitda_matrix.head())"
   ]
  },
  {
   "cell_type": "code",
   "execution_count": 108,
   "metadata": {
    "collapsed": false
   },
   "outputs": [
    {
     "name": "stdout",
     "output_type": "stream",
     "text": [
      "15420681\n",
      "15420681.0\n",
      "5554\n"
     ]
    }
   ],
   "source": [
    "print(len(final))\n",
    "print((len(ebitda_matrix)-1)*len(ebitda_matrix)/2)\n",
    "print(len(ebitda_matrix))"
   ]
  },
  {
   "cell_type": "code",
   "execution_count": 109,
   "metadata": {
    "collapsed": false
   },
   "outputs": [
    {
     "name": "stdout",
     "output_type": "stream",
     "text": [
      "15420681\n"
     ]
    }
   ],
   "source": [
    "# Creating a list of year correlations and adding it to the regression table - VERY LONG!\n",
    "\n",
    "ebitda_matrix_list = []\n",
    "for i in range(len(ebitda_matrix)-1):\n",
    "    for j in range(i+1, len(ebitda_matrix)):\n",
    "        ebitda_matrix_list.append(ebitda_matrix[str(i)].loc[j])\n",
    "print(len(ebitda_matrix_list))"
   ]
  },
  {
   "cell_type": "code",
   "execution_count": 110,
   "metadata": {
    "collapsed": true
   },
   "outputs": [],
   "source": [
    "final['EBITDA Year Corrs'] = ebitda_matrix_list\n",
    "final.to_csv(\"Regressions/regression_table_python.csv\")"
   ]
  },
  {
   "cell_type": "code",
   "execution_count": 111,
   "metadata": {
    "collapsed": false
   },
   "outputs": [
    {
     "name": "stderr",
     "output_type": "stream",
     "text": [
      "//anaconda/lib/python3.5/site-packages/IPython/core/interactiveshell.py:2723: DtypeWarning: Columns (3) have mixed types. Specify dtype option on import or set low_memory=False.\n",
      "  interactivity=interactivity, compiler=compiler, result=result)\n"
     ]
    },
    {
     "name": "stdout",
     "output_type": "stream",
     "text": [
      "   Company 1  Company 2 Company 1 Type Company 2 Type  Common Domicile?  \\\n",
      "0          0          1            NaN              P                 0   \n",
      "1          0          2            NaN              U                 0   \n",
      "2          0          3            NaN            NaN                 0   \n",
      "3          0          4            NaN            NaN                 0   \n",
      "4          0          5            NaN            NaN                 0   \n",
      "\n",
      "   Direct Link?  Hidden Link?  Income Year Corrs  EBIT Year Corrs  \\\n",
      "0             0             0                NaN              NaN   \n",
      "1             0             0                NaN              NaN   \n",
      "2             0             0                NaN              NaN   \n",
      "3             0             0                NaN              NaN   \n",
      "4             0             0                NaN              NaN   \n",
      "\n",
      "   EBITDA Year Corrs  \n",
      "0                NaN  \n",
      "1                NaN  \n",
      "2                NaN  \n",
      "3                NaN  \n",
      "4                NaN  \n"
     ]
    }
   ],
   "source": [
    "# Importing BACK the final regression table\n",
    "\n",
    "final = pd.read_csv(\"Regressions/regression_table_python.csv\", encoding='ISO-8859-1', index_col = 0)\n",
    "print(final.head())"
   ]
  },
  {
   "cell_type": "code",
   "execution_count": 113,
   "metadata": {
    "collapsed": false
   },
   "outputs": [
    {
     "name": "stdout",
     "output_type": "stream",
     "text": [
      "6240\n",
      "           Company Name  Position Chairman? Board Member?\n",
      "0  ASIA PAYMENT SYSTEMS  Former P       NaN             Y\n",
      "1  THOMAS LEE & PARTNER       NaN         Y             N\n",
      "2  FITTEC INTERNATIONAL       NaN       NaN             Y\n",
      "3  CIG YANGTZE PORTS PL       NaN       NaN             Y\n",
      "4  SPARKLE ROLL GROUP L       NaN       NaN             Y\n",
      "5554\n",
      "   Unnamed: 0          Company Name  Company ID\n",
      "0           0    (CA)SUPERIOR COURT           0\n",
      "1           1     (CO)SUPREME COURT           1\n",
      "2           2  (IDN)MINISTRY OF FIN           2\n",
      "3           3  (IDN)OFFICE OF THE P           3\n",
      "4           4  (ISR)OFFICE OF PRIME           4\n"
     ]
    }
   ],
   "source": [
    "# Importing rock_solid_truth and Companies-IDs dictionary\n",
    "\n",
    "truth = pd.read_csv(\"Merged/rock_solid_truth.csv\", encoding='ISO-8859-1')\n",
    "truth = truth[['Cname Short', 'Position', 'Chairman?', 'Board Member?']]\n",
    "truth.columns = ['Company Name', 'Position', 'Chairman?', 'Board Member?']\n",
    "truth['Company Name'] = truth['Company Name'].str.upper()\n",
    "truth['Board Member?'] = np.where(truth['Board Member?'] == 'Y', 1, truth['Board Member?'])\n",
    "truth['Board Member?'] = np.where(truth['Board Member?'] == 'N', 0, truth['Board Member?'])\n",
    "truth['Chairman?'] = np.where(truth['Chairman?'] == 'Y', 1, truth['Chairman?'])\n",
    "truth['Chairman?'] = np.where(truth['Chairman?'] == 'Y', 0, truth['Chairman?'])\n",
    "print(len(truth))\n",
    "print(truth.head())\n",
    "\n",
    "dictionary = pd.read_csv('Merged/real_companies_dict.csv', encoding='ISO-8859-1')\n",
    "print(len(dictionary))\n",
    "print(dictionary.head())"
   ]
  },
  {
   "cell_type": "code",
   "execution_count": 119,
   "metadata": {
    "collapsed": false
   },
   "outputs": [
    {
     "name": "stdout",
     "output_type": "stream",
     "text": [
      "5554\n"
     ]
    }
   ],
   "source": [
    "# Removing duplicates\n",
    "\n",
    "truth = truth[~truth['Company Name'].duplicated()]\n",
    "print(len(truth))"
   ]
  },
  {
   "cell_type": "code",
   "execution_count": 121,
   "metadata": {
    "collapsed": false
   },
   "outputs": [
    {
     "name": "stdout",
     "output_type": "stream",
     "text": [
      "5554\n",
      "   Unnamed: 0          Company Name  Company ID           Position Chairman?  \\\n",
      "0           0    (CA)SUPERIOR COURT           0              Judge       NaN   \n",
      "1           1     (CO)SUPREME COURT           1           Justice        NaN   \n",
      "2           2  (IDN)MINISTRY OF FIN           2  Inspector General       NaN   \n",
      "3           3  (IDN)OFFICE OF THE P           3    Special Advisor       NaN   \n",
      "4           4  (ISR)OFFICE OF PRIME           4     Chief of Staff       NaN   \n",
      "\n",
      "  Board Member?  \n",
      "0           NaN  \n",
      "1           NaN  \n",
      "2           NaN  \n",
      "3           NaN  \n",
      "4           NaN  \n"
     ]
    }
   ],
   "source": [
    "# Merging IDs and Truth\n",
    "\n",
    "truth = pd.merge(dictionary, truth, how = 'left')\n",
    "del truth['Company Name']\n",
    "del truth['Unnamed: 0']\n",
    "print(len(truth))\n",
    "print(truth.head())"
   ]
  },
  {
   "cell_type": "code",
   "execution_count": 125,
   "metadata": {
    "collapsed": false
   },
   "outputs": [
    {
     "name": "stdout",
     "output_type": "stream",
     "text": [
      "   Company 1         Position 1 Chairman 1? Board Member 1?\n",
      "0          0              Judge         NaN             NaN\n",
      "1          1           Justice          NaN             NaN\n",
      "2          2  Inspector General         NaN             NaN\n",
      "3          3    Special Advisor         NaN             NaN\n",
      "4          4     Chief of Staff         NaN             NaN\n",
      "   Company 2         Position 2 Chairman 2? Board Member 2?\n",
      "0          0              Judge         NaN             NaN\n",
      "1          1           Justice          NaN             NaN\n",
      "2          2  Inspector General         NaN             NaN\n",
      "3          3    Special Advisor         NaN             NaN\n",
      "4          4     Chief of Staff         NaN             NaN\n",
      "   Company 1  Company 2 Company 1 Type Company 2 Type  Common Domicile?  \\\n",
      "0          0          1            NaN              P                 0   \n",
      "1          0          2            NaN              U                 0   \n",
      "2          0          3            NaN            NaN                 0   \n",
      "3          0          4            NaN            NaN                 0   \n",
      "4          0          5            NaN            NaN                 0   \n",
      "\n",
      "   Direct Link?  Hidden Link?  Income Year Corrs  EBIT Year Corrs  \\\n",
      "0             0             0                NaN              NaN   \n",
      "1             0             0                NaN              NaN   \n",
      "2             0             0                NaN              NaN   \n",
      "3             0             0                NaN              NaN   \n",
      "4             0             0                NaN              NaN   \n",
      "\n",
      "   EBITDA Year Corrs  \n",
      "0                NaN  \n",
      "1                NaN  \n",
      "2                NaN  \n",
      "3                NaN  \n",
      "4                NaN  \n"
     ]
    }
   ],
   "source": [
    "# Creating separate tables with TRUTH for Company 1 & Company 2\n",
    "\n",
    "truth_1 = truth.copy()\n",
    "truth_1.columns = ['Company 1', 'Position 1', 'Chairman 1?', 'Board Member 1?']\n",
    "print(truth_1.head())\n",
    "truth_2 = truth.copy()\n",
    "truth_2.columns = ['Company 2', 'Position 2', 'Chairman 2?', 'Board Member 2?']\n",
    "print(truth_2.head())\n",
    "print(final.head())"
   ]
  },
  {
   "cell_type": "code",
   "execution_count": 127,
   "metadata": {
    "collapsed": false
   },
   "outputs": [
    {
     "name": "stdout",
     "output_type": "stream",
     "text": [
      "15420681\n",
      "   Company 1  Company 2 Company 1 Type Company 2 Type  Common Domicile?  \\\n",
      "0          0          1            NaN              P                 0   \n",
      "1          0          2            NaN              U                 0   \n",
      "2          0          3            NaN            NaN                 0   \n",
      "3          0          4            NaN            NaN                 0   \n",
      "4          0          5            NaN            NaN                 0   \n",
      "\n",
      "   Direct Link?  Hidden Link?  Income Year Corrs  EBIT Year Corrs  \\\n",
      "0             0             0                NaN              NaN   \n",
      "1             0             0                NaN              NaN   \n",
      "2             0             0                NaN              NaN   \n",
      "3             0             0                NaN              NaN   \n",
      "4             0             0                NaN              NaN   \n",
      "\n",
      "   EBITDA Year Corrs Position 1 Chairman 1? Board Member 1?  \\\n",
      "0                NaN      Judge         NaN             NaN   \n",
      "1                NaN      Judge         NaN             NaN   \n",
      "2                NaN      Judge         NaN             NaN   \n",
      "3                NaN      Judge         NaN             NaN   \n",
      "4                NaN      Judge         NaN             NaN   \n",
      "\n",
      "          Position 2 Chairman 2? Board Member 2?  \n",
      "0           Justice          NaN             NaN  \n",
      "1  Inspector General         NaN             NaN  \n",
      "2    Special Advisor         NaN             NaN  \n",
      "3     Chief of Staff         NaN             NaN  \n",
      "4              Judge         NaN             NaN  \n"
     ]
    }
   ],
   "source": [
    "# Adding Positions to the final table\n",
    "\n",
    "final_new = pd.merge(final, truth_1, how = 'left')\n",
    "final_new_new = pd.merge(final_new, truth_2, how = 'left')\n",
    "print(len(final_new_new))\n",
    "print(final_new_new.head())"
   ]
  },
  {
   "cell_type": "code",
   "execution_count": 128,
   "metadata": {
    "collapsed": true
   },
   "outputs": [],
   "source": [
    "final = final_new_new.copy()\n",
    "final.to_csv(\"Regressions/regression_table_python.csv\")"
   ]
  },
  {
   "cell_type": "code",
   "execution_count": 3,
   "metadata": {
    "collapsed": false
   },
   "outputs": [
    {
     "name": "stderr",
     "output_type": "stream",
     "text": [
      "//anaconda/lib/python3.5/site-packages/IPython/core/interactiveshell.py:2723: DtypeWarning: Columns (3,11,12,13,15,16) have mixed types. Specify dtype option on import or set low_memory=False.\n",
      "  interactivity=interactivity, compiler=compiler, result=result)\n"
     ]
    },
    {
     "name": "stdout",
     "output_type": "stream",
     "text": [
      "   Company 1  Company 2 Company 1 Type Company 2 Type  Common Domicile?  \\\n",
      "0          0          1            NaN              P                 0   \n",
      "1          0          2            NaN              U                 0   \n",
      "2          0          3            NaN            NaN                 0   \n",
      "3          0          4            NaN            NaN                 0   \n",
      "4          0          5            NaN            NaN                 0   \n",
      "\n",
      "   Direct Link?  Hidden Link?  Income Year Corrs  EBIT Year Corrs  \\\n",
      "0             0             0                NaN              NaN   \n",
      "1             0             0                NaN              NaN   \n",
      "2             0             0                NaN              NaN   \n",
      "3             0             0                NaN              NaN   \n",
      "4             0             0                NaN              NaN   \n",
      "\n",
      "   EBITDA Year Corrs Position 1 Chairman 1? Board Member 1?  \\\n",
      "0                NaN      Judge         NaN             NaN   \n",
      "1                NaN      Judge         NaN             NaN   \n",
      "2                NaN      Judge         NaN             NaN   \n",
      "3                NaN      Judge         NaN             NaN   \n",
      "4                NaN      Judge         NaN             NaN   \n",
      "\n",
      "          Position 2 Chairman 2? Board Member 2?  \n",
      "0           Justice          NaN             NaN  \n",
      "1  Inspector General         NaN             NaN  \n",
      "2    Special Advisor         NaN             NaN  \n",
      "3     Chief of Staff         NaN             NaN  \n",
      "4              Judge         NaN             NaN  \n"
     ]
    }
   ],
   "source": [
    "# Importing BACK the final regression table\n",
    "\n",
    "final = pd.read_csv(\"Regressions/regression_table_python.csv\", encoding='ISO-8859-1', index_col = 0)\n",
    "print(final.head())"
   ]
  },
  {
   "cell_type": "code",
   "execution_count": 4,
   "metadata": {
    "collapsed": false
   },
   "outputs": [
    {
     "name": "stdout",
     "output_type": "stream",
     "text": [
      "    0   1   2   3   4   5   6   7   8   9  ...   5544  5545  5546  5547  5548  \\\n",
      "0 NaN NaN NaN NaN NaN NaN NaN NaN NaN NaN  ...    NaN   NaN   NaN   NaN   NaN   \n",
      "1 NaN NaN NaN NaN NaN NaN NaN NaN NaN NaN  ...    NaN   NaN   NaN   NaN   NaN   \n",
      "2 NaN NaN NaN NaN NaN NaN NaN NaN NaN NaN  ...    NaN   NaN   NaN   NaN   NaN   \n",
      "3 NaN NaN NaN NaN NaN NaN NaN NaN NaN NaN  ...    NaN   NaN   NaN   NaN   NaN   \n",
      "4 NaN NaN NaN NaN NaN NaN NaN NaN NaN NaN  ...    NaN   NaN   NaN   NaN   NaN   \n",
      "\n",
      "   5549  5550  5551  5552  5553  \n",
      "0   NaN   NaN   NaN   NaN   NaN  \n",
      "1   NaN   NaN   NaN   NaN   NaN  \n",
      "2   NaN   NaN   NaN   NaN   NaN  \n",
      "3   NaN   NaN   NaN   NaN   NaN  \n",
      "4   NaN   NaN   NaN   NaN   NaN  \n",
      "\n",
      "[5 rows x 5554 columns]\n"
     ]
    }
   ],
   "source": [
    "# Importing income_correlations_quarter\n",
    "\n",
    "income_matrix_quarter = pd.read_csv(\"Bloomberg/income_correlations_quarter.csv\", encoding='ISO-8859-1', index_col = 0)\n",
    "print(income_matrix_quarter.head())"
   ]
  },
  {
   "cell_type": "code",
   "execution_count": 5,
   "metadata": {
    "collapsed": false
   },
   "outputs": [
    {
     "name": "stdout",
     "output_type": "stream",
     "text": [
      "15420681\n",
      "15420681.0\n",
      "5554\n"
     ]
    }
   ],
   "source": [
    "print(len(final))\n",
    "print((len(income_matrix_quarter)-1)*len(income_matrix_quarter)/2)\n",
    "print(len(income_matrix_quarter))"
   ]
  },
  {
   "cell_type": "code",
   "execution_count": 6,
   "metadata": {
    "collapsed": false
   },
   "outputs": [
    {
     "name": "stdout",
     "output_type": "stream",
     "text": [
      "5554\n"
     ]
    }
   ],
   "source": [
    "# Creating a list of year correlations and adding it to the regression table - VERY LONG!\n",
    "\n",
    "income_matrix_list = []\n",
    "for i in range(len(income_matrix_quarter)-1):\n",
    "    for j in range(i+1, len(income_matrix_quarter)):\n",
    "        income_matrix_list.append(income_matrix_quarter[str(i)].loc[j])\n",
    "print(len(income_matrix_quarter))"
   ]
  },
  {
   "cell_type": "code",
   "execution_count": 9,
   "metadata": {
    "collapsed": false
   },
   "outputs": [],
   "source": [
    "final['Income Quarter Corrs'] = income_matrix_list\n",
    "final.to_csv(\"Regressions/regression_table_python.csv\")"
   ]
  },
  {
   "cell_type": "code",
   "execution_count": 10,
   "metadata": {
    "collapsed": false
   },
   "outputs": [
    {
     "name": "stderr",
     "output_type": "stream",
     "text": [
      "//anaconda/lib/python3.5/site-packages/IPython/core/interactiveshell.py:2723: DtypeWarning: Columns (3,11,12,13,15,16) have mixed types. Specify dtype option on import or set low_memory=False.\n",
      "  interactivity=interactivity, compiler=compiler, result=result)\n"
     ]
    },
    {
     "name": "stdout",
     "output_type": "stream",
     "text": [
      "   Company 1  Company 2 Company 1 Type Company 2 Type  Common Domicile?  \\\n",
      "0          0          1            NaN              P                 0   \n",
      "1          0          2            NaN              U                 0   \n",
      "2          0          3            NaN            NaN                 0   \n",
      "3          0          4            NaN            NaN                 0   \n",
      "4          0          5            NaN            NaN                 0   \n",
      "\n",
      "   Direct Link?  Hidden Link?  Income Year Corrs  EBIT Year Corrs  \\\n",
      "0             0             0                NaN              NaN   \n",
      "1             0             0                NaN              NaN   \n",
      "2             0             0                NaN              NaN   \n",
      "3             0             0                NaN              NaN   \n",
      "4             0             0                NaN              NaN   \n",
      "\n",
      "   EBITDA Year Corrs Position 1 Chairman 1? Board Member 1?  \\\n",
      "0                NaN      Judge         NaN             NaN   \n",
      "1                NaN      Judge         NaN             NaN   \n",
      "2                NaN      Judge         NaN             NaN   \n",
      "3                NaN      Judge         NaN             NaN   \n",
      "4                NaN      Judge         NaN             NaN   \n",
      "\n",
      "          Position 2 Chairman 2? Board Member 2?  Income Quarter Corrs  \n",
      "0           Justice          NaN             NaN                   NaN  \n",
      "1  Inspector General         NaN             NaN                   NaN  \n",
      "2    Special Advisor         NaN             NaN                   NaN  \n",
      "3     Chief of Staff         NaN             NaN                   NaN  \n",
      "4              Judge         NaN             NaN                   NaN  \n"
     ]
    }
   ],
   "source": [
    "# Importing BACK the final regression table\n",
    "\n",
    "final = pd.read_csv(\"Regressions/regression_table_python.csv\", encoding='ISO-8859-1', index_col = 0)\n",
    "print(final.head())"
   ]
  },
  {
   "cell_type": "code",
   "execution_count": 11,
   "metadata": {
    "collapsed": false
   },
   "outputs": [
    {
     "name": "stdout",
     "output_type": "stream",
     "text": [
      "    0   1   2   3   4   5   6   7   8   9  ...   5544  5545  5546  5547  5548  \\\n",
      "0 NaN NaN NaN NaN NaN NaN NaN NaN NaN NaN  ...    NaN   NaN   NaN   NaN   NaN   \n",
      "1 NaN NaN NaN NaN NaN NaN NaN NaN NaN NaN  ...    NaN   NaN   NaN   NaN   NaN   \n",
      "2 NaN NaN NaN NaN NaN NaN NaN NaN NaN NaN  ...    NaN   NaN   NaN   NaN   NaN   \n",
      "3 NaN NaN NaN NaN NaN NaN NaN NaN NaN NaN  ...    NaN   NaN   NaN   NaN   NaN   \n",
      "4 NaN NaN NaN NaN NaN NaN NaN NaN NaN NaN  ...    NaN   NaN   NaN   NaN   NaN   \n",
      "\n",
      "   5549  5550  5551  5552  5553  \n",
      "0   NaN   NaN   NaN   NaN   NaN  \n",
      "1   NaN   NaN   NaN   NaN   NaN  \n",
      "2   NaN   NaN   NaN   NaN   NaN  \n",
      "3   NaN   NaN   NaN   NaN   NaN  \n",
      "4   NaN   NaN   NaN   NaN   NaN  \n",
      "\n",
      "[5 rows x 5554 columns]\n"
     ]
    }
   ],
   "source": [
    "# Importing ebit_correlations_quarter\n",
    "\n",
    "ebit_matrix_quarter = pd.read_csv(\"Bloomberg/ebit_correlations_quarter.csv\", encoding='ISO-8859-1', index_col = 0)\n",
    "print(ebit_matrix_quarter.head())"
   ]
  },
  {
   "cell_type": "code",
   "execution_count": 12,
   "metadata": {
    "collapsed": false
   },
   "outputs": [
    {
     "name": "stdout",
     "output_type": "stream",
     "text": [
      "15420681\n",
      "15420681.0\n",
      "5554\n"
     ]
    }
   ],
   "source": [
    "print(len(final))\n",
    "print((len(ebit_matrix_quarter)-1)*len(ebit_matrix_quarter)/2)\n",
    "print(len(ebit_matrix_quarter))"
   ]
  },
  {
   "cell_type": "code",
   "execution_count": 13,
   "metadata": {
    "collapsed": false
   },
   "outputs": [
    {
     "name": "stdout",
     "output_type": "stream",
     "text": [
      "5554\n"
     ]
    }
   ],
   "source": [
    "# Creating a list of year correlations and adding it to the regression table - VERY LONG!\n",
    "\n",
    "ebit_matrix_list = []\n",
    "for i in range(len(ebit_matrix_quarter)-1):\n",
    "    for j in range(i+1, len(ebit_matrix_quarter)):\n",
    "        ebit_matrix_list.append(ebit_matrix_quarter[str(i)].loc[j])\n",
    "print(len(ebit_matrix_quarter))"
   ]
  },
  {
   "cell_type": "code",
   "execution_count": 14,
   "metadata": {
    "collapsed": true
   },
   "outputs": [],
   "source": [
    "final['EBIT Quarter Corrs'] = ebit_matrix_list\n",
    "final.to_csv(\"Regressions/regression_table_python.csv\")"
   ]
  },
  {
   "cell_type": "code",
   "execution_count": 15,
   "metadata": {
    "collapsed": false
   },
   "outputs": [
    {
     "name": "stderr",
     "output_type": "stream",
     "text": [
      "//anaconda/lib/python3.5/site-packages/IPython/core/interactiveshell.py:2723: DtypeWarning: Columns (3,11,12,13,15,16) have mixed types. Specify dtype option on import or set low_memory=False.\n",
      "  interactivity=interactivity, compiler=compiler, result=result)\n"
     ]
    },
    {
     "name": "stdout",
     "output_type": "stream",
     "text": [
      "   Company 1  Company 2 Company 1 Type Company 2 Type  Common Domicile?  \\\n",
      "0          0          1            NaN              P                 0   \n",
      "1          0          2            NaN              U                 0   \n",
      "2          0          3            NaN            NaN                 0   \n",
      "3          0          4            NaN            NaN                 0   \n",
      "4          0          5            NaN            NaN                 0   \n",
      "\n",
      "   Direct Link?  Hidden Link?  Income Year Corrs  EBIT Year Corrs  \\\n",
      "0             0             0                NaN              NaN   \n",
      "1             0             0                NaN              NaN   \n",
      "2             0             0                NaN              NaN   \n",
      "3             0             0                NaN              NaN   \n",
      "4             0             0                NaN              NaN   \n",
      "\n",
      "   EBITDA Year Corrs Position 1 Chairman 1? Board Member 1?  \\\n",
      "0                NaN      Judge         NaN             NaN   \n",
      "1                NaN      Judge         NaN             NaN   \n",
      "2                NaN      Judge         NaN             NaN   \n",
      "3                NaN      Judge         NaN             NaN   \n",
      "4                NaN      Judge         NaN             NaN   \n",
      "\n",
      "          Position 2 Chairman 2? Board Member 2?  Income Quarter Corrs  \\\n",
      "0           Justice          NaN             NaN                   NaN   \n",
      "1  Inspector General         NaN             NaN                   NaN   \n",
      "2    Special Advisor         NaN             NaN                   NaN   \n",
      "3     Chief of Staff         NaN             NaN                   NaN   \n",
      "4              Judge         NaN             NaN                   NaN   \n",
      "\n",
      "   EBIT Quarter Corrs  \n",
      "0                 NaN  \n",
      "1                 NaN  \n",
      "2                 NaN  \n",
      "3                 NaN  \n",
      "4                 NaN  \n"
     ]
    }
   ],
   "source": [
    "# Importing BACK the final regression table\n",
    "\n",
    "final = pd.read_csv(\"Regressions/regression_table_python.csv\", encoding='ISO-8859-1', index_col = 0)\n",
    "print(final.head())"
   ]
  },
  {
   "cell_type": "code",
   "execution_count": 16,
   "metadata": {
    "collapsed": false
   },
   "outputs": [
    {
     "name": "stdout",
     "output_type": "stream",
     "text": [
      "    0   1   2   3   4   5   6   7   8   9  ...   5544  5545  5546  5547  5548  \\\n",
      "0 NaN NaN NaN NaN NaN NaN NaN NaN NaN NaN  ...    NaN   NaN   NaN   NaN   NaN   \n",
      "1 NaN NaN NaN NaN NaN NaN NaN NaN NaN NaN  ...    NaN   NaN   NaN   NaN   NaN   \n",
      "2 NaN NaN NaN NaN NaN NaN NaN NaN NaN NaN  ...    NaN   NaN   NaN   NaN   NaN   \n",
      "3 NaN NaN NaN NaN NaN NaN NaN NaN NaN NaN  ...    NaN   NaN   NaN   NaN   NaN   \n",
      "4 NaN NaN NaN NaN NaN NaN NaN NaN NaN NaN  ...    NaN   NaN   NaN   NaN   NaN   \n",
      "\n",
      "   5549  5550  5551  5552  5553  \n",
      "0   NaN   NaN   NaN   NaN   NaN  \n",
      "1   NaN   NaN   NaN   NaN   NaN  \n",
      "2   NaN   NaN   NaN   NaN   NaN  \n",
      "3   NaN   NaN   NaN   NaN   NaN  \n",
      "4   NaN   NaN   NaN   NaN   NaN  \n",
      "\n",
      "[5 rows x 5554 columns]\n"
     ]
    }
   ],
   "source": [
    "# Importing ebitda_correlations_quarter\n",
    "\n",
    "ebitda_matrix_quarter = pd.read_csv(\"Bloomberg/ebitda_correlations_quarter.csv\", encoding='ISO-8859-1', index_col = 0)\n",
    "print(ebitda_matrix_quarter.head())"
   ]
  },
  {
   "cell_type": "code",
   "execution_count": 17,
   "metadata": {
    "collapsed": false
   },
   "outputs": [
    {
     "name": "stdout",
     "output_type": "stream",
     "text": [
      "15420681\n",
      "15420681.0\n",
      "5554\n"
     ]
    }
   ],
   "source": [
    "print(len(final))\n",
    "print((len(ebitda_matrix_quarter)-1)*len(ebitda_matrix_quarter)/2)\n",
    "print(len(ebitda_matrix_quarter))"
   ]
  },
  {
   "cell_type": "code",
   "execution_count": 18,
   "metadata": {
    "collapsed": false
   },
   "outputs": [
    {
     "name": "stdout",
     "output_type": "stream",
     "text": [
      "5554\n"
     ]
    }
   ],
   "source": [
    "# Creating a list of year correlations and adding it to the regression table - VERY LONG!\n",
    "\n",
    "ebitda_matrix_list = []\n",
    "for i in range(len(ebitda_matrix_quarter)-1):\n",
    "    for j in range(i+1, len(ebitda_matrix_quarter)):\n",
    "        ebitda_matrix_list.append(ebitda_matrix_quarter[str(i)].loc[j])\n",
    "print(len(ebitda_matrix_quarter))"
   ]
  },
  {
   "cell_type": "code",
   "execution_count": 19,
   "metadata": {
    "collapsed": true
   },
   "outputs": [],
   "source": [
    "final['EBITDA Quarter Corrs'] = ebitda_matrix_list\n",
    "final.to_csv(\"Regressions/regression_table_python.csv\")"
   ]
  },
  {
   "cell_type": "code",
   "execution_count": 21,
   "metadata": {
    "collapsed": false
   },
   "outputs": [
    {
     "name": "stderr",
     "output_type": "stream",
     "text": [
      "//anaconda/lib/python3.5/site-packages/IPython/core/interactiveshell.py:2723: DtypeWarning: Columns (3,11,12,13,15,16) have mixed types. Specify dtype option on import or set low_memory=False.\n",
      "  interactivity=interactivity, compiler=compiler, result=result)\n"
     ]
    },
    {
     "name": "stdout",
     "output_type": "stream",
     "text": [
      "   Company 1  Company 2 Company 1 Type Company 2 Type  Common Domicile?  \\\n",
      "0          0          1            NaN              P                 0   \n",
      "1          0          2            NaN              U                 0   \n",
      "2          0          3            NaN            NaN                 0   \n",
      "3          0          4            NaN            NaN                 0   \n",
      "4          0          5            NaN            NaN                 0   \n",
      "\n",
      "   Direct Link?  Hidden Link?  Income Year Corrs  EBIT Year Corrs  \\\n",
      "0             0             0                NaN              NaN   \n",
      "1             0             0                NaN              NaN   \n",
      "2             0             0                NaN              NaN   \n",
      "3             0             0                NaN              NaN   \n",
      "4             0             0                NaN              NaN   \n",
      "\n",
      "   EBITDA Year Corrs Position 1 Chairman 1? Board Member 1?  \\\n",
      "0                NaN      Judge         NaN             NaN   \n",
      "1                NaN      Judge         NaN             NaN   \n",
      "2                NaN      Judge         NaN             NaN   \n",
      "3                NaN      Judge         NaN             NaN   \n",
      "4                NaN      Judge         NaN             NaN   \n",
      "\n",
      "          Position 2 Chairman 2? Board Member 2?  Income Quarter Corrs  \\\n",
      "0           Justice          NaN             NaN                   NaN   \n",
      "1  Inspector General         NaN             NaN                   NaN   \n",
      "2    Special Advisor         NaN             NaN                   NaN   \n",
      "3     Chief of Staff         NaN             NaN                   NaN   \n",
      "4              Judge         NaN             NaN                   NaN   \n",
      "\n",
      "   EBIT Quarter Corrs  EBITDA Quarter Corrs  \n",
      "0                 NaN                   NaN  \n",
      "1                 NaN                   NaN  \n",
      "2                 NaN                   NaN  \n",
      "3                 NaN                   NaN  \n",
      "4                 NaN                   NaN  \n"
     ]
    }
   ],
   "source": [
    "# Importing BACK the final regression table\n",
    "\n",
    "final = pd.read_csv(\"Regressions/regression_table_python.csv\", encoding='ISO-8859-1', index_col = 0)\n",
    "print(final.head())"
   ]
  },
  {
   "cell_type": "code",
   "execution_count": 22,
   "metadata": {
    "collapsed": false
   },
   "outputs": [
    {
     "name": "stdout",
     "output_type": "stream",
     "text": [
      "    0   1   2   3   4   5   6   7   8   9  ...   5544  5545  5546  5547  5548  \\\n",
      "0 NaN NaN NaN NaN NaN NaN NaN NaN NaN NaN  ...    NaN   NaN   NaN   NaN   NaN   \n",
      "1 NaN NaN NaN NaN NaN NaN NaN NaN NaN NaN  ...    NaN   NaN   NaN   NaN   NaN   \n",
      "2 NaN NaN NaN NaN NaN NaN NaN NaN NaN NaN  ...    NaN   NaN   NaN   NaN   NaN   \n",
      "3 NaN NaN NaN NaN NaN NaN NaN NaN NaN NaN  ...    NaN   NaN   NaN   NaN   NaN   \n",
      "4 NaN NaN NaN NaN NaN NaN NaN NaN NaN NaN  ...    NaN   NaN   NaN   NaN   NaN   \n",
      "\n",
      "   5549  5550  5551  5552  5553  \n",
      "0   NaN   NaN   NaN   NaN   NaN  \n",
      "1   NaN   NaN   NaN   NaN   NaN  \n",
      "2   NaN   NaN   NaN   NaN   NaN  \n",
      "3   NaN   NaN   NaN   NaN   NaN  \n",
      "4   NaN   NaN   NaN   NaN   NaN  \n",
      "\n",
      "[5 rows x 5554 columns]\n"
     ]
    }
   ],
   "source": [
    "# Importing price_correlations_year\n",
    "\n",
    "price_matrix_year = pd.read_csv(\"Bloomberg/price_correlations_year.csv\", encoding='ISO-8859-1', index_col = 0)\n",
    "print(price_matrix_year.head())"
   ]
  },
  {
   "cell_type": "code",
   "execution_count": 23,
   "metadata": {
    "collapsed": false
   },
   "outputs": [
    {
     "name": "stdout",
     "output_type": "stream",
     "text": [
      "15420681\n",
      "15420681.0\n",
      "5554\n"
     ]
    }
   ],
   "source": [
    "print(len(final))\n",
    "print((len(price_matrix_year)-1)*len(price_matrix_year)/2)\n",
    "print(len(price_matrix_year))"
   ]
  },
  {
   "cell_type": "code",
   "execution_count": 24,
   "metadata": {
    "collapsed": false
   },
   "outputs": [
    {
     "name": "stdout",
     "output_type": "stream",
     "text": [
      "5554\n"
     ]
    }
   ],
   "source": [
    "# Creating a list of year correlations and adding it to the regression table - VERY LONG!\n",
    "\n",
    "price_matrix_list = []\n",
    "for i in range(len(price_matrix_year)-1):\n",
    "    for j in range(i+1, len(price_matrix_year)):\n",
    "        price_matrix_list.append(price_matrix_year[str(i)].loc[j])\n",
    "print(len(price_matrix_year))"
   ]
  },
  {
   "cell_type": "code",
   "execution_count": 25,
   "metadata": {
    "collapsed": true
   },
   "outputs": [],
   "source": [
    "final['Price Year Corrs'] = price_matrix_list\n",
    "final.to_csv(\"Regressions/regression_table_python.csv\")"
   ]
  },
  {
   "cell_type": "code",
   "execution_count": 26,
   "metadata": {
    "collapsed": false
   },
   "outputs": [
    {
     "name": "stderr",
     "output_type": "stream",
     "text": [
      "//anaconda/lib/python3.5/site-packages/IPython/core/interactiveshell.py:2723: DtypeWarning: Columns (3,11,12,13,15,16) have mixed types. Specify dtype option on import or set low_memory=False.\n",
      "  interactivity=interactivity, compiler=compiler, result=result)\n"
     ]
    },
    {
     "name": "stdout",
     "output_type": "stream",
     "text": [
      "   Company 1  Company 2 Company 1 Type Company 2 Type  Common Domicile?  \\\n",
      "0          0          1            NaN              P                 0   \n",
      "1          0          2            NaN              U                 0   \n",
      "2          0          3            NaN            NaN                 0   \n",
      "3          0          4            NaN            NaN                 0   \n",
      "4          0          5            NaN            NaN                 0   \n",
      "\n",
      "   Direct Link?  Hidden Link?  Income Year Corrs  EBIT Year Corrs  \\\n",
      "0             0             0                NaN              NaN   \n",
      "1             0             0                NaN              NaN   \n",
      "2             0             0                NaN              NaN   \n",
      "3             0             0                NaN              NaN   \n",
      "4             0             0                NaN              NaN   \n",
      "\n",
      "   EBITDA Year Corrs Position 1 Chairman 1? Board Member 1?  \\\n",
      "0                NaN      Judge         NaN             NaN   \n",
      "1                NaN      Judge         NaN             NaN   \n",
      "2                NaN      Judge         NaN             NaN   \n",
      "3                NaN      Judge         NaN             NaN   \n",
      "4                NaN      Judge         NaN             NaN   \n",
      "\n",
      "          Position 2 Chairman 2? Board Member 2?  Income Quarter Corrs  \\\n",
      "0           Justice          NaN             NaN                   NaN   \n",
      "1  Inspector General         NaN             NaN                   NaN   \n",
      "2    Special Advisor         NaN             NaN                   NaN   \n",
      "3     Chief of Staff         NaN             NaN                   NaN   \n",
      "4              Judge         NaN             NaN                   NaN   \n",
      "\n",
      "   EBIT Quarter Corrs  EBITDA Quarter Corrs  Price Year Corrs  \n",
      "0                 NaN                   NaN               NaN  \n",
      "1                 NaN                   NaN               NaN  \n",
      "2                 NaN                   NaN               NaN  \n",
      "3                 NaN                   NaN               NaN  \n",
      "4                 NaN                   NaN               NaN  \n"
     ]
    }
   ],
   "source": [
    "# Importing BACK the final regression table\n",
    "\n",
    "final = pd.read_csv(\"Regressions/regression_table_python.csv\", encoding='ISO-8859-1', index_col = 0)\n",
    "print(final.head())"
   ]
  },
  {
   "cell_type": "code",
   "execution_count": 27,
   "metadata": {
    "collapsed": false
   },
   "outputs": [
    {
     "name": "stdout",
     "output_type": "stream",
     "text": [
      "    0   1   2   3   4   5   6   7   8   9  ...   5544  5545  5546  5547  5548  \\\n",
      "0 NaN NaN NaN NaN NaN NaN NaN NaN NaN NaN  ...    NaN   NaN   NaN   NaN   NaN   \n",
      "1 NaN NaN NaN NaN NaN NaN NaN NaN NaN NaN  ...    NaN   NaN   NaN   NaN   NaN   \n",
      "2 NaN NaN NaN NaN NaN NaN NaN NaN NaN NaN  ...    NaN   NaN   NaN   NaN   NaN   \n",
      "3 NaN NaN NaN NaN NaN NaN NaN NaN NaN NaN  ...    NaN   NaN   NaN   NaN   NaN   \n",
      "4 NaN NaN NaN NaN NaN NaN NaN NaN NaN NaN  ...    NaN   NaN   NaN   NaN   NaN   \n",
      "\n",
      "   5549  5550  5551  5552  5553  \n",
      "0   NaN   NaN   NaN   NaN   NaN  \n",
      "1   NaN   NaN   NaN   NaN   NaN  \n",
      "2   NaN   NaN   NaN   NaN   NaN  \n",
      "3   NaN   NaN   NaN   NaN   NaN  \n",
      "4   NaN   NaN   NaN   NaN   NaN  \n",
      "\n",
      "[5 rows x 5554 columns]\n"
     ]
    }
   ],
   "source": [
    "# Importing price_correlations_quarter\n",
    "\n",
    "price_matrix_quarter = pd.read_csv(\"Bloomberg/price_correlations_quarter.csv\", encoding='ISO-8859-1', index_col = 0)\n",
    "print(price_matrix_quarter.head())"
   ]
  },
  {
   "cell_type": "code",
   "execution_count": 28,
   "metadata": {
    "collapsed": false
   },
   "outputs": [
    {
     "name": "stdout",
     "output_type": "stream",
     "text": [
      "15420681\n",
      "15420681.0\n",
      "5554\n"
     ]
    }
   ],
   "source": [
    "print(len(final))\n",
    "print((len(price_matrix_quarter)-1)*len(price_matrix_quarter)/2)\n",
    "print(len(price_matrix_quarter))"
   ]
  },
  {
   "cell_type": "code",
   "execution_count": 29,
   "metadata": {
    "collapsed": false
   },
   "outputs": [
    {
     "name": "stdout",
     "output_type": "stream",
     "text": [
      "5554\n"
     ]
    }
   ],
   "source": [
    "# Creating a list of year correlations and adding it to the regression table - VERY LONG!\n",
    "\n",
    "price_matrix_list = []\n",
    "for i in range(len(price_matrix_quarter)-1):\n",
    "    for j in range(i+1, len(price_matrix_quarter)):\n",
    "        price_matrix_list.append(price_matrix_quarter[str(i)].loc[j])\n",
    "print(len(price_matrix_quarter))"
   ]
  },
  {
   "cell_type": "code",
   "execution_count": 30,
   "metadata": {
    "collapsed": true
   },
   "outputs": [],
   "source": [
    "final['Price Quarter Corrs'] = price_matrix_list\n",
    "final.to_csv(\"Regressions/regression_table_python.csv\")"
   ]
  },
  {
   "cell_type": "code",
   "execution_count": null,
   "metadata": {
    "collapsed": true
   },
   "outputs": [],
   "source": []
  }
 ],
 "metadata": {
  "kernelspec": {
   "display_name": "Python 3",
   "language": "python",
   "name": "python3"
  },
  "language_info": {
   "codemirror_mode": {
    "name": "ipython",
    "version": 3
   },
   "file_extension": ".py",
   "mimetype": "text/x-python",
   "name": "python",
   "nbconvert_exporter": "python",
   "pygments_lexer": "ipython3",
   "version": "3.5.2"
  }
 },
 "nbformat": 4,
 "nbformat_minor": 0
}
