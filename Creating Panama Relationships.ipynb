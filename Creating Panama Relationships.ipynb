{
 "cells": [
  {
   "cell_type": "code",
   "execution_count": 22,
   "metadata": {
    "collapsed": false
   },
   "outputs": [],
   "source": [
    "# Create pandas DataFrame\n",
    "# df = pd.DataFrame( {\"A\": [7001, 8001, 9001]} )"
   ]
  },
  {
   "cell_type": "code",
   "execution_count": 1,
   "metadata": {
    "collapsed": true
   },
   "outputs": [],
   "source": [
    "import csv\n",
    "import pandas as pd\n",
    "import numpy as np"
   ]
  },
  {
   "cell_type": "code",
   "execution_count": 2,
   "metadata": {
    "collapsed": false
   },
   "outputs": [
    {
     "name": "stdout",
     "output_type": "stream",
     "text": [
      "1265690\n",
      "     node_1         rel_type    node_2\n",
      "0  11000001  intermediary_of  10208879\n",
      "1  11000001  intermediary_of  10198662\n",
      "2  11000001  intermediary_of  10159927\n",
      "3  11000001  intermediary_of  10165779\n",
      "4  11000001  intermediary_of  10152967\n"
     ]
    }
   ],
   "source": [
    "# Importing the table with Panama connections\n",
    "\n",
    "all_edges = pd.read_csv(\"ICIJ Data/all_edges.csv\", encoding='ISO-8859-1')\n",
    "print(len(all_edges))\n",
    "print(all_edges.head())"
   ]
  },
  {
   "cell_type": "code",
   "execution_count": 3,
   "metadata": {
    "collapsed": false
   },
   "outputs": [
    {
     "name": "stdout",
     "output_type": "stream",
     "text": [
      "3677\n",
      "          Country      Bloomberg Name    Original Panama Name   Node ID  \\\n",
      "0  United Kingdom  olafur gudmundsson  MR. OLAFUR GUDMUNDSSON  12190271   \n",
      "1  United Kingdom  olafur gudmundsson   Olafur S. Gudmundsson  12190499   \n",
      "2  United Kingdom        wang xiaodan            WANG Xiaodan  12193848   \n",
      "3  United Kingdom       mario cordoni       Mr. Mario CORDONI  12194229   \n",
      "4  United Kingdom       mario cordoni       Mr. Mario CORDONI  12199491   \n",
      "\n",
      "                            ICIJ ID  \n",
      "0  CAFD16E4BA76071D4DCC7C218EA14F13  \n",
      "1  8A920B695E492F44B19DB4FC9B31415D  \n",
      "2  33747075E3C9B41F040631878A8CA36A  \n",
      "3  C7368607523BC2F37C6D57E3495CCCDF  \n",
      "4  10E9D4BAB8BBB0C9A103B570C029B459  \n"
     ]
    }
   ],
   "source": [
    "# Importing the perfect dictionary\n",
    "\n",
    "perfect = pd.read_csv(\"Merged/perfect_dictionary.csv\", encoding='ISO-8859-1')\n",
    "print(len(perfect))\n",
    "print(perfect.head())"
   ]
  },
  {
   "cell_type": "code",
   "execution_count": 4,
   "metadata": {
    "collapsed": false
   },
   "outputs": [
    {
     "name": "stdout",
     "output_type": "stream",
     "text": [
      "581476\n",
      "          node_1    node_2\n",
      "319121  12000001  10073324\n",
      "319122  12000002  10148386\n",
      "319123  12000003  10024966\n",
      "319124  12000004  10004763\n",
      "319125  12000005  10206741\n"
     ]
    }
   ],
   "source": [
    "# Creating a table with only officers\n",
    "\n",
    "officer_edges = all_edges[all_edges['rel_type'] == 'officer_of']\n",
    "del officer_edges['rel_type']\n",
    "print(len(officer_edges))\n",
    "print(officer_edges.head())"
   ]
  },
  {
   "cell_type": "code",
   "execution_count": null,
   "metadata": {
    "collapsed": false
   },
   "outputs": [],
   "source": [
    "# Creating a dictionary with officers' IDs as keys and ENTITIES as values\n",
    "\n",
    "edges_dict = {k: g[\"node_2\"].tolist() for k,g in officer_edges.groupby(\"node_1\")}\n",
    "print(len(edges_dict))\n",
    "#print(edges_dict)"
   ]
  },
  {
   "cell_type": "code",
   "execution_count": 130,
   "metadata": {
    "collapsed": false,
    "scrolled": true
   },
   "outputs": [
    {
     "name": "stdout",
     "output_type": "stream",
     "text": [
      "4483\n",
      "    Officer    Entity\n",
      "0  12190271  10145953\n",
      "1  12190499  10134528\n",
      "2  12193848  10022514\n",
      "3  12194229  10033002\n",
      "4  12194229  10034641\n"
     ]
    }
   ],
   "source": [
    "# Creating a table with only proper OFFICER-ENTITY relationships\n",
    "\n",
    "good_edges_officers = pd.DataFrame({'node_1': perfect[perfect['Node ID'].isin(edges_dict.keys())]['Node ID']})\n",
    "good_edges = pd.merge(good_edges_officers, officer_edges, how='left')\n",
    "good_edges.columns = ['Officer', 'Entity']\n",
    "print(len(good_edges))\n",
    "print(good_edges.head())\n",
    "\n",
    "# Exporting the table with proper OFFICER-ENTITY relationships\n",
    "\n",
    "good_edges.to_csv('Merged/officer_entity_ids.csv')"
   ]
  },
  {
   "cell_type": "code",
   "execution_count": 148,
   "metadata": {
    "collapsed": false
   },
   "outputs": [
    {
     "name": "stdout",
     "output_type": "stream",
     "text": [
      "4929\n",
      "    Node ID    Entity         Country      Bloomberg Name  \\\n",
      "0  12190271  10145953  United Kingdom  olafur gudmundsson   \n",
      "1  12190499  10134528  United Kingdom  olafur gudmundsson   \n",
      "2  12193848  10022514  United Kingdom        wang xiaodan   \n",
      "3  12194229  10033002  United Kingdom       mario cordoni   \n",
      "4  12194229  10034641  United Kingdom       mario cordoni   \n",
      "\n",
      "     Original Panama Name                           ICIJ ID  \n",
      "0  MR. OLAFUR GUDMUNDSSON  CAFD16E4BA76071D4DCC7C218EA14F13  \n",
      "1   Olafur S. Gudmundsson  8A920B695E492F44B19DB4FC9B31415D  \n",
      "2            WANG Xiaodan  33747075E3C9B41F040631878A8CA36A  \n",
      "3       Mr. Mario CORDONI  C7368607523BC2F37C6D57E3495CCCDF  \n",
      "4       Mr. Mario CORDONI  C7368607523BC2F37C6D57E3495CCCDF  \n",
      "3328\n"
     ]
    }
   ],
   "source": [
    "# Creating a table with entities and names\n",
    "\n",
    "good_edges.columns = ['Node ID', 'Entity']\n",
    "ent_name = pd.merge(good_edges, perfect, how='left')\n",
    "print(len(ent_name))\n",
    "print(ent_name.head())"
   ]
  },
  {
   "cell_type": "code",
   "execution_count": 149,
   "metadata": {
    "collapsed": false
   },
   "outputs": [
    {
     "name": "stdout",
     "output_type": "stream",
     "text": [
      "6240\n",
      "   _          Panama Name         Bloomberg Name Panama Country  \\\n",
      "0  1  lee shing bun benny    benny shing bun lee      Hong Kong   \n",
      "1  2  thomas lee kang bor  lee kang bor \"thomas\"      Hong Kong   \n",
      "2  2  thomas lee kang bor  lee kang bor \"thomas\"      Hong Kong   \n",
      "3  2  thomas lee kang bor  lee kang bor \"thomas\"      Hong Kong   \n",
      "4  2  thomas lee kang bor  lee kang bor \"thomas\"      Hong Kong   \n",
      "\n",
      "                            Cname           Cname Short  Position Chairman?  \\\n",
      "0        Asia Payment Systems Inc  Asia Payment Systems  Former P       NaN   \n",
      "1       Thomas Lee & Partners Ltd  Thomas Lee & Partner       NaN         Y   \n",
      "2  Fittec International Group Ltd  Fittec International       NaN       NaN   \n",
      "3           Cig Yangtze Ports PLC  Cig Yangtze Ports PL       NaN       NaN   \n",
      "4          Sparkle Roll Group Ltd  Sparkle Roll Group L       NaN       NaN   \n",
      "\n",
      "  Board Member?   Domicile    Ticker Type          ISIN  \n",
      "0             Y        NaN       NaN  NaN           NaN  \n",
      "1             N        NaN       NaN  NaN           NaN  \n",
      "2             Y  Hong Kong   2662 HK   OK  KYG351751014  \n",
      "3             Y  Hong Kong   8233 HK   OK  KYG214261045  \n",
      "4             Y  Hong Kong  GCULF US   OK           NaN  \n"
     ]
    }
   ],
   "source": [
    "# Importing rock_solid_truth\n",
    "\n",
    "truth = pd.read_csv(\"Merged/rock_solid_truth.csv\", encoding='ISO-8859-1')\n",
    "print(len(truth))\n",
    "print(truth.head())"
   ]
  },
  {
   "cell_type": "code",
   "execution_count": 153,
   "metadata": {
    "collapsed": false
   },
   "outputs": [
    {
     "name": "stdout",
     "output_type": "stream",
     "text": [
      "5554\n",
      "           Company Name  Company ID\n",
      "0    (CA)SUPERIOR COURT           0\n",
      "1     (CO)SUPREME COURT           1\n",
      "2  (IDN)MINISTRY OF FIN           2\n",
      "3  (IDN)OFFICE OF THE P           3\n",
      "4  (ISR)OFFICE OF PRIME           4\n"
     ]
    }
   ],
   "source": [
    "# Creating a dictionary and a dataframe with NEW number IDs of companies as keys and companies names as values\n",
    "\n",
    "names_list = sorted(list(set(truth[\"Cname Short\"].str.upper())))\n",
    "names_ids = [x for x in range(0, len(names_list))]\n",
    "names_pandas = pd.DataFrame(index = range(len(names_list)), columns = ['Company Name'])\n",
    "names_pandas['Company Name'] = pd.DataFrame(names_list)\n",
    "names_pandas['Company ID'] = pd.DataFrame(names_ids)\n",
    "\n",
    "\n",
    "\n",
    "comps_dict = {}\n",
    "for i in range(len(names_list)):\n",
    "    comps_dict[names_list[i]] = i\n",
    "\n",
    "print(len(names_pandas))    \n",
    "print(names_pandas.head())\n",
    "\n",
    "# Exporting the dataframe to csv\n",
    "\n",
    "names_pandas.to_csv('Merged/real_companies_dict.csv')\n",
    "\n",
    "# Saving the dictionary \n",
    "\n",
    "np.save('real_companies_dict.npy', comps_dict) "
   ]
  },
  {
   "cell_type": "code",
   "execution_count": 164,
   "metadata": {
    "collapsed": false
   },
   "outputs": [
    {
     "name": "stderr",
     "output_type": "stream",
     "text": [
      "//anaconda/lib/python3.5/site-packages/ipykernel/__main__.py:2: SettingWithCopyWarning: \n",
      "A value is trying to be set on a copy of a slice from a DataFrame.\n",
      "Try using .loc[row_indexer,col_indexer] = value instead\n",
      "\n",
      "See the caveats in the documentation: http://pandas.pydata.org/pandas-docs/stable/indexing.html#indexing-view-versus-copy\n",
      "  from ipykernel import kernelapp as app\n"
     ]
    },
    {
     "name": "stdout",
     "output_type": "stream",
     "text": [
      "16052\n",
      "     Entity  Company ID\n",
      "0  10145953         210\n",
      "1  10134528         210\n",
      "2  10022514        1077\n",
      "3  10033002        1309\n",
      "4  10034641        1309\n",
      "3311\n"
     ]
    }
   ],
   "source": [
    "# Creating a dictionary with entities as keys and companies IDs as values - FOR HIDDEN CONNECTIONS\n",
    "\n",
    "truth_part = truth[['Bloomberg Name', 'Cname Short']]\n",
    "truth_part['Cname Short'] = truth_part['Cname Short'].str.upper()\n",
    "truth_part.columns = ['Bloomberg Name', 'Company Name']\n",
    "truth_part_new = pd.merge(truth_part, names_pandas, how='left')\n",
    "entity_comps = pd.merge(ent_name, truth_part_new, how='inner')\n",
    "entity_comps = entity_comps[['Entity', 'Company ID']]\n",
    "print(len(entity_comps))\n",
    "print(entity_comps.head())\n",
    "\n",
    "company_dict2 = {k: g[\"Company ID\"].tolist() for k,g in entity_comps.groupby(\"Entity\")}\n",
    "print(len(company_dict2))\n",
    "\n",
    "# Saving the dictionary \n",
    "\n",
    "np.save('companies_offshores_dict.npy', company_dict2)"
   ]
  },
  {
   "cell_type": "code",
   "execution_count": 195,
   "metadata": {
    "collapsed": false
   },
   "outputs": [
    {
     "name": "stdout",
     "output_type": "stream",
     "text": [
      "48676\n",
      "   Company ID  Company ID 2\n",
      "2        5025          1874\n",
      "3        5025          1137\n",
      "4        5025          4753\n",
      "5        1874          5025\n",
      "7        1874          1137\n"
     ]
    }
   ],
   "source": [
    "# Creating a list of direct connections\n",
    "\n",
    "names_comps1 = truth_part_new[['Bloomberg Name', 'Company ID']]\n",
    "names_comps2 = names_comps1.copy()\n",
    "names_comps2.columns = ['Bloomberg Name', 'Company ID 2']\n",
    "direct = pd.merge(names_comps1, names_comps2, how='inner')\n",
    "del direct['Bloomberg Name']\n",
    "direct = direct[~direct.duplicated()]\n",
    "direct = direct[direct['Company ID'] != direct['Company ID 2']]\n",
    "print(len(direct))\n",
    "print(direct.head())"
   ]
  },
  {
   "cell_type": "code",
   "execution_count": 194,
   "metadata": {
    "collapsed": false
   },
   "outputs": [
    {
     "name": "stdout",
     "output_type": "stream",
     "text": [
      "67142\n",
      "    Company ID  Company ID 2\n",
      "13        4822          1773\n",
      "14        4822            23\n",
      "19        4822          3465\n",
      "20        4822          4353\n",
      "21        4822          3577\n"
     ]
    }
   ],
   "source": [
    "# Creating a list of hidden+direct connections\n",
    "\n",
    "entity_comps1 = entity_comps.copy()\n",
    "entity_comps2 = entity_comps1.copy()\n",
    "entity_comps2.columns = ['Entity', 'Company ID 2']\n",
    "hidden_direct = pd.merge(entity_comps1, entity_comps2, how='inner')\n",
    "del hidden_direct['Entity']\n",
    "hidden_direct = hidden_direct[hidden_direct['Company ID'] != hidden_direct['Company ID 2']]\n",
    "hidden_direct = hidden_direct[~hidden_direct.duplicated()]\n",
    "print(len(hidden_direct))\n",
    "print(hidden_direct.head())"
   ]
  },
  {
   "cell_type": "code",
   "execution_count": 201,
   "metadata": {
    "collapsed": false
   },
   "outputs": [
    {
     "name": "stdout",
     "output_type": "stream",
     "text": [
      "19492\n",
      "    Company ID  Company ID 2\n",
      "19        4822          3465\n",
      "20        4822          4353\n",
      "21        4822          3577\n",
      "47        1773          3465\n",
      "48        1773          4353\n"
     ]
    }
   ],
   "source": [
    "# Creating a list of hidden connections\n",
    "\n",
    "hidden_direct_copy = hidden_direct.copy()\n",
    "direct_copy = direct.copy()\n",
    "hidden_direct_copy['key'] = hidden_direct_copy['Company ID'].astype(str) + hidden_direct_copy['Company ID 2'].astype(str)\n",
    "direct_copy['key'] = direct_copy['Company ID'].astype(str) + direct_copy['Company ID 2'].astype(str)\n",
    "hidden = hidden_direct_copy[~hidden_direct_copy['key'].isin(direct_copy['key'])]\n",
    "del hidden['key']\n",
    "print(len(hidden))\n",
    "print(hidden.head())"
   ]
  },
  {
   "cell_type": "code",
   "execution_count": 206,
   "metadata": {
    "collapsed": false
   },
   "outputs": [
    {
     "name": "stderr",
     "output_type": "stream",
     "text": [
      "//anaconda/lib/python3.5/site-packages/ipykernel/__main__.py:3: FutureWarning: sort(columns=....) is deprecated, use sort_values(by=.....)\n",
      "  app.launch_new_instance()\n",
      "//anaconda/lib/python3.5/site-packages/ipykernel/__main__.py:4: FutureWarning: sort(columns=....) is deprecated, use sort_values(by=.....)\n"
     ]
    }
   ],
   "source": [
    "# Sorting and exporting to csv\n",
    "\n",
    "hidden.sort(['Company ID','Company ID 2'], ascending=True)\n",
    "direct.sort(['Company ID','Company ID 2'], ascending=True)\n",
    "\n",
    "hidden.to_csv('Merged/hidden_connections.csv')\n",
    "direct.to_csv('Merged/direct_connections.csv')"
   ]
  }
 ],
 "metadata": {
  "kernelspec": {
   "display_name": "Python 3",
   "language": "python",
   "name": "python3"
  },
  "language_info": {
   "codemirror_mode": {
    "name": "ipython",
    "version": 3
   },
   "file_extension": ".py",
   "mimetype": "text/x-python",
   "name": "python",
   "nbconvert_exporter": "python",
   "pygments_lexer": "ipython3",
   "version": "3.5.2"
  }
 },
 "nbformat": 4,
 "nbformat_minor": 0
}
