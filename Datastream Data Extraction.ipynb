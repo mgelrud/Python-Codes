{
 "cells": [
  {
   "cell_type": "code",
   "execution_count": 4,
   "metadata": {
    "collapsed": false
   },
   "outputs": [
    {
     "name": "stdout",
     "output_type": "stream",
     "text": [
      "Number of words per row: 10\n"
     ]
    }
   ],
   "source": [
    "# Importing a string of tickers extracted from Datastream\n",
    "\n",
    "with open (\"DS codes.txt\", \"r\") as myfile:\n",
    "    data_raw = myfile.readlines()\n",
    "data = data_raw[0]   \n",
    "num = int(input(\"Number of words per row: \", ))"
   ]
  },
  {
   "cell_type": "code",
   "execution_count": 5,
   "metadata": {
    "collapsed": false
   },
   "outputs": [],
   "source": [
    "# Dividing the string into many equally-sized strings \n",
    "\n",
    "table_spaces = []\n",
    "mini_list = []\n",
    "count = 0\n",
    "num_char = 0\n",
    "for i in range(0, len(data)):\n",
    "    if data[i] != ',':\n",
    "        mini_list.append(data[i])\n",
    "        num_char += 1\n",
    "    else:\n",
    "        count = count + 1\n",
    "        if count % num != 0:\n",
    "            mini_list.append(data[i])\n",
    "            num_char += 1\n",
    "        else:\n",
    "            mini_string = ''.join(mini_list)\n",
    "            table_spaces.append(mini_string)\n",
    "            mini_list = []\n",
    "            count = 0\n",
    "            num_char = 0\n",
    "table_spaces.append(data[-17:])\n",
    "\n",
    "table = [table_spaces[0]]\n",
    "for i in range(1, len(table_spaces)):\n",
    "    table.append(table_spaces[i][1:])\n",
    "#print(table)"
   ]
  },
  {
   "cell_type": "code",
   "execution_count": 6,
   "metadata": {
    "collapsed": false
   },
   "outputs": [],
   "source": [
    "# Exporting the list of strings of tickers into Excel as one column\n",
    "\n",
    "import csv\n",
    "\n",
    "csvfile = \"/Users/mariagelrud/Desktop/Thesis/Datastream_input.csv\"\n",
    "with open(csvfile, \"w\") as output:\n",
    "    writer = csv.writer(output, lineterminator='\\n')\n",
    "    for val in table:\n",
    "        writer.writerow([val])    "
   ]
  }
 ],
 "metadata": {
  "kernelspec": {
   "display_name": "Python 3",
   "language": "python",
   "name": "python3"
  },
  "language_info": {
   "codemirror_mode": {
    "name": "ipython",
    "version": 3
   },
   "file_extension": ".py",
   "mimetype": "text/x-python",
   "name": "python",
   "nbconvert_exporter": "python",
   "pygments_lexer": "ipython3",
   "version": "3.5.2"
  }
 },
 "nbformat": 4,
 "nbformat_minor": 0
}
