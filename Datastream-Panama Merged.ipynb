{
 "cells": [
  {
   "cell_type": "code",
   "execution_count": 1,
   "metadata": {
    "collapsed": false
   },
   "outputs": [
    {
     "name": "stdout",
     "output_type": "stream",
     "text": [
      "65602\n",
      "106133\n",
      "99126\n"
     ]
    }
   ],
   "source": [
    "# Loading a list of Panama names, a dictionary of Datastream names, and a list of Datastream names\n",
    "\n",
    "import numpy as np\n",
    "import pickle\n",
    "\n",
    "panama_list = np.load('panama_officers_no_chinese.npy')\n",
    "panama_list = panama_list.tolist()\n",
    "with open('datastream_officers_dict.pickle', 'rb') as whatever:\n",
    "  datastream_dict = pickle.load(whatever)\n",
    "datastream_names = np.load('datastream_names_list_no_chinese.npy')\n",
    "datastream_names = datastream_names.tolist()\n",
    "print(len(panama_list))\n",
    "print(len(datastream_dict.keys()))\n",
    "print(len(datastream_names))"
   ]
  },
  {
   "cell_type": "code",
   "execution_count": 2,
   "metadata": {
    "collapsed": false
   },
   "outputs": [],
   "source": [
    "#print(datastream_names)"
   ]
  },
  {
   "cell_type": "code",
   "execution_count": 3,
   "metadata": {
    "collapsed": false
   },
   "outputs": [],
   "source": [
    "#print(panama_list)"
   ]
  },
  {
   "cell_type": "code",
   "execution_count": 4,
   "metadata": {
    "collapsed": false
   },
   "outputs": [],
   "source": [
    "# Creating a list of matched names containing both Datastream and Panama names\n",
    "# Matching criteria: all the words from one name should be in another name + no one-word names\n",
    "# Panama names from China are excluded\n",
    "\n",
    "# DO NOT EXECUTE BY CHANCE!\n",
    "\n",
    "best_names = []\n",
    "for i in range(len(panama_list)):\n",
    "    for j in range(len(datastream_names)):\n",
    "        least_length = min(len(datastream_names[j]), len(panama_list[i]))\n",
    "        if least_length > 1:\n",
    "            if len(datastream_names[j] & panama_list[i]) == least_length:\n",
    "                print((i+1)*len(datastream_names)+(j+1), \" \", panama_list[i], \" \", datastream_names[j])\n",
    "                best_names.append([panama_list[i], datastream_names[j]])\n",
    "#print(len(best_names))            "
   ]
  },
  {
   "cell_type": "code",
   "execution_count": 12,
   "metadata": {
    "collapsed": false
   },
   "outputs": [],
   "source": [
    "#  Saving the list of best names to a file\n",
    "\n",
    "import numpy as np\n",
    "\n",
    "np.save('datastream_matches_no_chinese.npy', best_names)"
   ]
  },
  {
   "cell_type": "code",
   "execution_count": 5,
   "metadata": {
    "collapsed": false
   },
   "outputs": [],
   "source": [
    "#print(best_names)"
   ]
  },
  {
   "cell_type": "code",
   "execution_count": 36,
   "metadata": {
    "collapsed": false
   },
   "outputs": [],
   "source": [
    "#  Loading the list of best names\n",
    "\n",
    "best_names = np.load('datastream_matches_no_chinese.npy')\n",
    "best_names = best_names.tolist()\n",
    "#print(best_names)"
   ]
  },
  {
   "cell_type": "code",
   "execution_count": 14,
   "metadata": {
    "collapsed": false
   },
   "outputs": [
    {
     "name": "stdout",
     "output_type": "stream",
     "text": [
      "562\n"
     ]
    }
   ],
   "source": [
    "# Creating a list of names that are identical in Panama and Datastream \n",
    "\n",
    "names_matched_fully = []\n",
    "for i in range(len(best_names)):\n",
    "    if (best_names[i][0] == best_names[i][1]) and (best_names[i][0] not in names_matched_fully):\n",
    "        names_matched_fully.append(best_names[i][0])\n",
    "print(len(names_matched_fully))\n",
    "#print(names_matched_fully)"
   ]
  },
  {
   "cell_type": "code",
   "execution_count": 15,
   "metadata": {
    "collapsed": false
   },
   "outputs": [
    {
     "name": "stdout",
     "output_type": "stream",
     "text": [
      "2831\n"
     ]
    }
   ],
   "source": [
    "# Creating a list of names with only one different word \n",
    "\n",
    "names_matched_almost_fully = []\n",
    "for i in range(len(best_names)):\n",
    "    if abs(len(best_names[i][0]) - len(best_names[i][1])) == 1:\n",
    "        names_matched_almost_fully.append(best_names[i])\n",
    "print(len(names_matched_almost_fully))\n",
    "#print(names_matched_almost_fully)"
   ]
  },
  {
   "cell_type": "code",
   "execution_count": 16,
   "metadata": {
    "collapsed": false
   },
   "outputs": [
    {
     "name": "stdout",
     "output_type": "stream",
     "text": [
      "1185\n"
     ]
    }
   ],
   "source": [
    "# Creating a list of the rest of the matched names\n",
    "\n",
    "names_matched_partly = []\n",
    "for i in range(len(best_names)):\n",
    "    if (best_names[i][0] not in names_matched_fully) and (best_names[i] not in names_matched_almost_fully):\n",
    "        names_matched_partly.append(best_names[i])\n",
    "print(len(names_matched_partly))\n",
    "#print(names_matched_partly)"
   ]
  },
  {
   "cell_type": "code",
   "execution_count": 17,
   "metadata": {
    "collapsed": true
   },
   "outputs": [],
   "source": [
    "#  Saving the lists to files\n",
    "\n",
    "np.save('matches_full.npy', names_matched_fully)\n",
    "np.save('matches_almost_full.npy', names_matched_almost_fully)\n",
    "np.save('matches_part.npy', names_matched_partly)"
   ]
  }
 ],
 "metadata": {
  "kernelspec": {
   "display_name": "Python 3",
   "language": "python",
   "name": "python3"
  },
  "language_info": {
   "codemirror_mode": {
    "name": "ipython",
    "version": 3
   },
   "file_extension": ".py",
   "mimetype": "text/x-python",
   "name": "python",
   "nbconvert_exporter": "python",
   "pygments_lexer": "ipython3",
   "version": "3.5.2"
  }
 },
 "nbformat": 4,
 "nbformat_minor": 0
}
