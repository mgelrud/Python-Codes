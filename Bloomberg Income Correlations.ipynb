{
 "cells": [
  {
   "cell_type": "code",
   "execution_count": 23,
   "metadata": {
    "collapsed": false
   },
   "outputs": [],
   "source": [
    "# Importing packages\n",
    "\n",
    "import csv\n",
    "import pandas as pd\n",
    "import numpy as np\n",
    "import datetime as dt"
   ]
  },
  {
   "cell_type": "code",
   "execution_count": 16,
   "metadata": {
    "collapsed": true
   },
   "outputs": [],
   "source": [
    "# Creating an empty dataframe for average correlations\n",
    "\n",
    "corrs = pd.DataFrame(index = range(len(income)))"
   ]
  },
  {
   "cell_type": "code",
   "execution_count": 31,
   "metadata": {
    "collapsed": false
   },
   "outputs": [
    {
     "name": "stdout",
     "output_type": "stream",
     "text": [
      "2556\n",
      "1764\n",
      "  Unnamed: 0  1995-01-31  1995-02-28  1995-03-31  1995-04-30  1995-05-31  \\\n",
      "0    2662 HK         0.0         0.0         0.0         0.0         0.0   \n",
      "1    8233 HK         0.0         0.0         0.0         0.0         0.0   \n",
      "2   GCULF US         0.0         0.0         0.0         0.0         0.0   \n",
      "3     IUB MK         0.0         0.0         0.0         0.0         0.0   \n",
      "4    8609 JP         0.0         0.0         0.0         0.0         0.0   \n",
      "\n",
      "   1995-06-30  1995-07-31  1995-08-31  1995-09-30     ...      2015-09-30  \\\n",
      "0         0.0         0.0         0.0         0.0     ...           0.000   \n",
      "1         0.0         0.0         0.0         0.0     ...           5.458   \n",
      "2         0.0         0.0         0.0         0.0     ...         -23.291   \n",
      "3         0.0         0.0         0.0         0.0     ...           0.196   \n",
      "4         0.0         0.0         0.0         0.0     ...        1659.000   \n",
      "\n",
      "   2015-10-31  2015-11-30  2015-12-31  2016-01-31  2016-02-29  2016-03-31  \\\n",
      "0         0.0         0.0     -34.211         0.0         0.0       0.000   \n",
      "1         0.0         0.0      11.492         0.0         0.0       1.513   \n",
      "2         0.0         0.0       0.000         0.0         0.0      -9.037   \n",
      "3         0.0         0.0      -0.808         0.0         0.0      -0.314   \n",
      "4         0.0         0.0    2955.000         0.0         0.0    1813.000   \n",
      "\n",
      "   2016-04-30  2016-05-31  2016-06-30  \n",
      "0         0.0         0.0     -17.467  \n",
      "1         0.0         0.0      13.476  \n",
      "2         0.0         0.0       0.000  \n",
      "3         0.0         0.0       1.255  \n",
      "4         0.0         0.0    2877.000  \n",
      "\n",
      "[5 rows x 259 columns]\n"
     ]
    }
   ],
   "source": [
    "# Importing Net Income and deleting empty rows\n",
    "\n",
    "income = pd.read_csv(\"Bloomberg/net_income_proper.csv\", encoding='ISO-8859-1')\n",
    "print(len(income))\n",
    "columns = list(income.columns)\n",
    "columns.pop(0)\n",
    "income = income[income[columns].sum(axis=1) != 0]\n",
    "print(len(income))\n",
    "print(income.head())"
   ]
  },
  {
   "cell_type": "code",
   "execution_count": 32,
   "metadata": {
    "collapsed": false,
    "scrolled": true
   },
   "outputs": [
    {
     "name": "stdout",
     "output_type": "stream",
     "text": [
      "6240\n",
      "           Company Name    Ticker\n",
      "0  ASIA PAYMENT SYSTEMS       NaN\n",
      "1  THOMAS LEE & PARTNER       NaN\n",
      "2  FITTEC INTERNATIONAL   2662 HK\n",
      "3  CIG YANGTZE PORTS PL   8233 HK\n",
      "4  SPARKLE ROLL GROUP L  GCULF US\n",
      "5554\n",
      "   Unnamed: 0          Company Name  Company ID\n",
      "0           0    (CA)SUPERIOR COURT           0\n",
      "1           1     (CO)SUPREME COURT           1\n",
      "2           2  (IDN)MINISTRY OF FIN           2\n",
      "3           3  (IDN)OFFICE OF THE P           3\n",
      "4           4  (ISR)OFFICE OF PRIME           4\n"
     ]
    }
   ],
   "source": [
    "# Importing rock_solid_truth and Companies-IDs dictionary\n",
    "\n",
    "truth = pd.read_csv(\"Merged/rock_solid_truth.csv\", encoding='ISO-8859-1')\n",
    "truth = truth[['Cname Short', 'Ticker']]\n",
    "truth.columns = ['Company Name', 'Ticker']\n",
    "truth['Company Name'] = truth['Company Name'].str.upper()\n",
    "print(len(truth))\n",
    "print(truth.head())\n",
    "\n",
    "dictionary = pd.read_csv('Merged/real_companies_dict.csv', encoding='ISO-8859-1')\n",
    "print(len(dictionary))\n",
    "print(dictionary.head())"
   ]
  },
  {
   "cell_type": "code",
   "execution_count": 33,
   "metadata": {
    "collapsed": false
   },
   "outputs": [
    {
     "name": "stdout",
     "output_type": "stream",
     "text": [
      "5554\n"
     ]
    }
   ],
   "source": [
    "# Removing duplicates\n",
    "\n",
    "truth = truth[~truth['Company Name'].duplicated()]\n",
    "print(len(truth))"
   ]
  },
  {
   "cell_type": "code",
   "execution_count": 34,
   "metadata": {
    "collapsed": false
   },
   "outputs": [
    {
     "name": "stdout",
     "output_type": "stream",
     "text": [
      "5554\n",
      "   Company Name  Unnamed: 0\n",
      "0             0         NaN\n",
      "1             1  313372L US\n",
      "2             2    1133Z IJ\n",
      "3             3         NaN\n",
      "4             4         NaN\n"
     ]
    }
   ],
   "source": [
    "# Merging IDs and Tickers\n",
    "\n",
    "truth = pd.merge(dictionary, truth, how = 'left')\n",
    "del truth['Company Name']\n",
    "del truth['Unnamed: 0']\n",
    "truth.columns = ['Company Name', 'Unnamed: 0']\n",
    "print(len(truth))\n",
    "print(truth.head())"
   ]
  },
  {
   "cell_type": "code",
   "execution_count": 35,
   "metadata": {
    "collapsed": false
   },
   "outputs": [
    {
     "name": "stdout",
     "output_type": "stream",
     "text": [
      "5554\n",
      "   Company Name  1995-01-31  1995-02-28  1995-03-31  1995-04-30  1995-05-31  \\\n",
      "0             0         NaN         NaN         NaN         NaN         NaN   \n",
      "1             1         NaN         NaN         NaN         NaN         NaN   \n",
      "2             2         NaN         NaN         NaN         NaN         NaN   \n",
      "3             3         NaN         NaN         NaN         NaN         NaN   \n",
      "4             4         NaN         NaN         NaN         NaN         NaN   \n",
      "\n",
      "   1995-06-30  1995-07-31  1995-08-31  1995-09-30     ...      2015-09-30  \\\n",
      "0         NaN         NaN         NaN         NaN     ...             NaN   \n",
      "1         NaN         NaN         NaN         NaN     ...             NaN   \n",
      "2         NaN         NaN         NaN         NaN     ...             NaN   \n",
      "3         NaN         NaN         NaN         NaN     ...             NaN   \n",
      "4         NaN         NaN         NaN         NaN     ...             NaN   \n",
      "\n",
      "   2015-10-31  2015-11-30  2015-12-31  2016-01-31  2016-02-29  2016-03-31  \\\n",
      "0         NaN         NaN         NaN         NaN         NaN         NaN   \n",
      "1         NaN         NaN         NaN         NaN         NaN         NaN   \n",
      "2         NaN         NaN         NaN         NaN         NaN         NaN   \n",
      "3         NaN         NaN         NaN         NaN         NaN         NaN   \n",
      "4         NaN         NaN         NaN         NaN         NaN         NaN   \n",
      "\n",
      "   2016-04-30  2016-05-31  2016-06-30  \n",
      "0         NaN         NaN         NaN  \n",
      "1         NaN         NaN         NaN  \n",
      "2         NaN         NaN         NaN  \n",
      "3         NaN         NaN         NaN  \n",
      "4         NaN         NaN         NaN  \n",
      "\n",
      "[5 rows x 259 columns]\n"
     ]
    }
   ],
   "source": [
    "# Adding income to the table\n",
    "\n",
    "income = pd.merge(truth, income, how = 'left')\n",
    "del income['Unnamed: 0']\n",
    "print(len(income))\n",
    "print(income.head())"
   ]
  },
  {
   "cell_type": "code",
   "execution_count": 29,
   "metadata": {
    "collapsed": false
   },
   "outputs": [
    {
     "name": "stdout",
     "output_type": "stream",
     "text": [
      "   1995  1996  1997  1998  1999  2000  2001  2002  2003  2004  ...   2007  \\\n",
      "0   NaN   NaN   NaN   NaN   NaN   NaN   NaN   NaN   NaN   NaN  ...    NaN   \n",
      "1   NaN   NaN   NaN   NaN   NaN   NaN   NaN   NaN   NaN   NaN  ...    NaN   \n",
      "2   NaN   NaN   NaN   NaN   NaN   NaN   NaN   NaN   NaN   NaN  ...    NaN   \n",
      "3   NaN   NaN   NaN   NaN   NaN   NaN   NaN   NaN   NaN   NaN  ...    NaN   \n",
      "4   NaN   NaN   NaN   NaN   NaN   NaN   NaN   NaN   NaN   NaN  ...    NaN   \n",
      "\n",
      "   2008  2009  2010  2011  2012  2013  2014  2015  2016  \n",
      "0   NaN   NaN   NaN   NaN   NaN   NaN   NaN   NaN   NaN  \n",
      "1   NaN   NaN   NaN   NaN   NaN   NaN   NaN   NaN   NaN  \n",
      "2   NaN   NaN   NaN   NaN   NaN   NaN   NaN   NaN   NaN  \n",
      "3   NaN   NaN   NaN   NaN   NaN   NaN   NaN   NaN   NaN  \n",
      "4   NaN   NaN   NaN   NaN   NaN   NaN   NaN   NaN   NaN  \n",
      "\n",
      "[5 rows x 22 columns]\n",
      "Company Name    109.00000\n",
      "1995-01-31            NaN\n",
      "1995-02-28            NaN\n",
      "1995-03-31        4.45900\n",
      "1995-04-30            NaN\n",
      "1995-05-31            NaN\n",
      "1995-06-30        5.07600\n",
      "1995-07-31            NaN\n",
      "1995-08-31            NaN\n",
      "1995-09-30        5.66100\n",
      "1995-10-31            NaN\n",
      "1995-11-30            NaN\n",
      "1995-12-31        5.07200\n",
      "1996-01-31            NaN\n",
      "1996-02-29            NaN\n",
      "1996-03-31        5.73500\n",
      "1996-04-30            NaN\n",
      "1996-05-31            NaN\n",
      "1996-06-30        7.28800\n",
      "1996-07-31            NaN\n",
      "1996-08-31            NaN\n",
      "1996-09-30        8.53300\n",
      "1996-10-31            NaN\n",
      "1996-11-30            NaN\n",
      "1996-12-31       11.67600\n",
      "1997-01-31            NaN\n",
      "1997-02-28            NaN\n",
      "1997-03-31       12.73800\n",
      "1997-04-30            NaN\n",
      "1997-05-31            NaN\n",
      "                  ...    \n",
      "2015-11-30            NaN\n",
      "2015-12-31            NaN\n",
      "2016-01-31            NaN\n",
      "2016-02-29            NaN\n",
      "2016-03-31            NaN\n",
      "2016-04-30            NaN\n",
      "2016-05-31            NaN\n",
      "2016-06-30            NaN\n",
      "1995              5.06700\n",
      "1996              8.30800\n",
      "1997             10.82075\n",
      "1998             18.75100\n",
      "1999             24.51700\n",
      "2000             30.09675\n",
      "2001             42.80450\n",
      "2002             68.39500\n",
      "2003            125.80575\n",
      "2004             95.07675\n",
      "2005            105.34700\n",
      "2006             74.33925\n",
      "2007             66.84325\n",
      "2008             85.10550\n",
      "2009             88.89625\n",
      "2010                  NaN\n",
      "2011                  NaN\n",
      "2012                  NaN\n",
      "2013                  NaN\n",
      "2014                  NaN\n",
      "2015                  NaN\n",
      "2016                  NaN\n",
      "Name: 109, dtype: float64\n"
     ]
    }
   ],
   "source": [
    "# Adding average YEAR net incomes and check if there are existing values\n",
    "\n",
    "date_columns = list(income.columns)\n",
    "date_columns.pop(0)\n",
    "\n",
    "income_test = income.copy()\n",
    "income_test[date_columns] = income_test[date_columns].where(income_test != 0 , np.nan) \n",
    "\n",
    "for i in range(1995, 2016):\n",
    "    income_test[i] = income_test[date_columns[(i - 1995)*12:((i - 1995)*12 + 12)]].mean(axis = 1)\n",
    "income_test[2016] = income_test[date_columns[(len(date_columns) - 6):len(date_columns)]].mean(axis = 1)\n",
    "\n",
    "all_columns = list(income_test.columns)\n",
    "avg_income_columns = [i for i in range(1995, 2017)]\n",
    "print(income_test[avg_income_columns].head())\n",
    "\n",
    "print(income_test.loc[109])"
   ]
  },
  {
   "cell_type": "code",
   "execution_count": 8,
   "metadata": {
    "collapsed": false
   },
   "outputs": [
    {
     "name": "stdout",
     "output_type": "stream",
     "text": [
      "   1995  1996  1997  1998  1999  2000  2001  2002  2003  2004  ...   2007  \\\n",
      "0   NaN   NaN   NaN   NaN   NaN   NaN   NaN   NaN   NaN   NaN  ...    NaN   \n",
      "1   NaN   NaN   NaN   NaN   NaN   NaN   NaN   NaN   NaN   NaN  ...    NaN   \n",
      "2   NaN   NaN   NaN   NaN   NaN   NaN   NaN   NaN   NaN   NaN  ...    NaN   \n",
      "3   NaN   NaN   NaN   NaN   NaN   NaN   NaN   NaN   NaN   NaN  ...    NaN   \n",
      "4   NaN   NaN   NaN   NaN   NaN   NaN   NaN   NaN   NaN   NaN  ...    NaN   \n",
      "\n",
      "   2008  2009  2010  2011  2012  2013  2014  2015  2016  \n",
      "0   NaN   NaN   NaN   NaN   NaN   NaN   NaN   NaN   NaN  \n",
      "1   NaN   NaN   NaN   NaN   NaN   NaN   NaN   NaN   NaN  \n",
      "2   NaN   NaN   NaN   NaN   NaN   NaN   NaN   NaN   NaN  \n",
      "3   NaN   NaN   NaN   NaN   NaN   NaN   NaN   NaN   NaN  \n",
      "4   NaN   NaN   NaN   NaN   NaN   NaN   NaN   NaN   NaN  \n",
      "\n",
      "[5 rows x 22 columns]\n"
     ]
    }
   ],
   "source": [
    "income = income_test.copy()\n",
    "print(income[avg_income_columns].head())"
   ]
  },
  {
   "cell_type": "code",
   "execution_count": 9,
   "metadata": {
    "collapsed": false,
    "scrolled": true
   },
   "outputs": [
    {
     "name": "stdout",
     "output_type": "stream",
     "text": [
      "5554\n",
      "      0     1     2     3     4     5     6     7     8     9     ...   5544  \\\n",
      "0      NaN   NaN   NaN   NaN   NaN   NaN   NaN   NaN   NaN   NaN  ...    NaN   \n",
      "1      NaN   NaN   NaN   NaN   NaN   NaN   NaN   NaN   NaN   NaN  ...    NaN   \n",
      "2      NaN   NaN   NaN   NaN   NaN   NaN   NaN   NaN   NaN   NaN  ...    NaN   \n",
      "3      NaN   NaN   NaN   NaN   NaN   NaN   NaN   NaN   NaN   NaN  ...    NaN   \n",
      "4      NaN   NaN   NaN   NaN   NaN   NaN   NaN   NaN   NaN   NaN  ...    NaN   \n",
      "5      NaN   NaN   NaN   NaN   NaN   NaN   NaN   NaN   NaN   NaN  ...    NaN   \n",
      "6      NaN   NaN   NaN   NaN   NaN   NaN   NaN   NaN   NaN   NaN  ...    NaN   \n",
      "7      NaN   NaN   NaN   NaN   NaN   NaN   NaN   NaN   NaN   NaN  ...    NaN   \n",
      "8      NaN   NaN   NaN   NaN   NaN   NaN   NaN   NaN   NaN   NaN  ...    NaN   \n",
      "9      NaN   NaN   NaN   NaN   NaN   NaN   NaN   NaN   NaN   NaN  ...    NaN   \n",
      "10     NaN   NaN   NaN   NaN   NaN   NaN   NaN   NaN   NaN   NaN  ...    NaN   \n",
      "11     NaN   NaN   NaN   NaN   NaN   NaN   NaN   NaN   NaN   NaN  ...    NaN   \n",
      "12     NaN   NaN   NaN   NaN   NaN   NaN   NaN   NaN   NaN   NaN  ...    NaN   \n",
      "13     NaN   NaN   NaN   NaN   NaN   NaN   NaN   NaN   NaN   NaN  ...    NaN   \n",
      "14     NaN   NaN   NaN   NaN   NaN   NaN   NaN   NaN   NaN   NaN  ...    NaN   \n",
      "15     NaN   NaN   NaN   NaN   NaN   NaN   NaN   NaN   NaN   NaN  ...    NaN   \n",
      "16     NaN   NaN   NaN   NaN   NaN   NaN   NaN   NaN   NaN   NaN  ...    NaN   \n",
      "17     NaN   NaN   NaN   NaN   NaN   NaN   NaN   NaN   NaN   NaN  ...    NaN   \n",
      "18     NaN   NaN   NaN   NaN   NaN   NaN   NaN   NaN   NaN   NaN  ...    NaN   \n",
      "19     NaN   NaN   NaN   NaN   NaN   NaN   NaN   NaN   NaN   NaN  ...    NaN   \n",
      "20     NaN   NaN   NaN   NaN   NaN   NaN   NaN   NaN   NaN   NaN  ...    NaN   \n",
      "21     NaN   NaN   NaN   NaN   NaN   NaN   NaN   NaN   NaN   NaN  ...    NaN   \n",
      "22     NaN   NaN   NaN   NaN   NaN   NaN   NaN   NaN   NaN   NaN  ...    NaN   \n",
      "23     NaN   NaN   NaN   NaN   NaN   NaN   NaN   NaN   NaN   NaN  ...    NaN   \n",
      "24     NaN   NaN   NaN   NaN   NaN   NaN   NaN   NaN   NaN   NaN  ...    NaN   \n",
      "25     NaN   NaN   NaN   NaN   NaN   NaN   NaN   NaN   NaN   NaN  ...    NaN   \n",
      "26     NaN   NaN   NaN   NaN   NaN   NaN   NaN   NaN   NaN   NaN  ...    NaN   \n",
      "27     NaN   NaN   NaN   NaN   NaN   NaN   NaN   NaN   NaN   NaN  ...    NaN   \n",
      "28     NaN   NaN   NaN   NaN   NaN   NaN   NaN   NaN   NaN   NaN  ...    NaN   \n",
      "29     NaN   NaN   NaN   NaN   NaN   NaN   NaN   NaN   NaN   NaN  ...    NaN   \n",
      "...    ...   ...   ...   ...   ...   ...   ...   ...   ...   ...  ...    ...   \n",
      "5524   NaN   NaN   NaN   NaN   NaN   NaN   NaN   NaN   NaN   NaN  ...    NaN   \n",
      "5525   NaN   NaN   NaN   NaN   NaN   NaN   NaN   NaN   NaN   NaN  ...    NaN   \n",
      "5526   NaN   NaN   NaN   NaN   NaN   NaN   NaN   NaN   NaN   NaN  ...    NaN   \n",
      "5527   NaN   NaN   NaN   NaN   NaN   NaN   NaN   NaN   NaN   NaN  ...    NaN   \n",
      "5528   NaN   NaN   NaN   NaN   NaN   NaN   NaN   NaN   NaN   NaN  ...    NaN   \n",
      "5529   NaN   NaN   NaN   NaN   NaN   NaN   NaN   NaN   NaN   NaN  ...    NaN   \n",
      "5530   NaN   NaN   NaN   NaN   NaN   NaN   NaN   NaN   NaN   NaN  ...    NaN   \n",
      "5531   NaN   NaN   NaN   NaN   NaN   NaN   NaN   NaN   NaN   NaN  ...    NaN   \n",
      "5532   NaN   NaN   NaN   NaN   NaN   NaN   NaN   NaN   NaN   NaN  ...    NaN   \n",
      "5533   NaN   NaN   NaN   NaN   NaN   NaN   NaN   NaN   NaN   NaN  ...    NaN   \n",
      "5534   NaN   NaN   NaN   NaN   NaN   NaN   NaN   NaN   NaN   NaN  ...    NaN   \n",
      "5535   NaN   NaN   NaN   NaN   NaN   NaN   NaN   NaN   NaN   NaN  ...    NaN   \n",
      "5536   NaN   NaN   NaN   NaN   NaN   NaN   NaN   NaN   NaN   NaN  ...    NaN   \n",
      "5537   NaN   NaN   NaN   NaN   NaN   NaN   NaN   NaN   NaN   NaN  ...    NaN   \n",
      "5538   NaN   NaN   NaN   NaN   NaN   NaN   NaN   NaN   NaN   NaN  ...    NaN   \n",
      "5539   NaN   NaN   NaN   NaN   NaN   NaN   NaN   NaN   NaN   NaN  ...    NaN   \n",
      "5540   NaN   NaN   NaN   NaN   NaN   NaN   NaN   NaN   NaN   NaN  ...    NaN   \n",
      "5541   NaN   NaN   NaN   NaN   NaN   NaN   NaN   NaN   NaN   NaN  ...    NaN   \n",
      "5542   NaN   NaN   NaN   NaN   NaN   NaN   NaN   NaN   NaN   NaN  ...    NaN   \n",
      "5543   NaN   NaN   NaN   NaN   NaN   NaN   NaN   NaN   NaN   NaN  ...    NaN   \n",
      "5544   NaN   NaN   NaN   NaN   NaN   NaN   NaN   NaN   NaN   NaN  ...    NaN   \n",
      "5545   NaN   NaN   NaN   NaN   NaN   NaN   NaN   NaN   NaN   NaN  ...    NaN   \n",
      "5546   NaN   NaN   NaN   NaN   NaN   NaN   NaN   NaN   NaN   NaN  ...    NaN   \n",
      "5547   NaN   NaN   NaN   NaN   NaN   NaN   NaN   NaN   NaN   NaN  ...    NaN   \n",
      "5548   NaN   NaN   NaN   NaN   NaN   NaN   NaN   NaN   NaN   NaN  ...    NaN   \n",
      "5549   NaN   NaN   NaN   NaN   NaN   NaN   NaN   NaN   NaN   NaN  ...    NaN   \n",
      "5550   NaN   NaN   NaN   NaN   NaN   NaN   NaN   NaN   NaN   NaN  ...    NaN   \n",
      "5551   NaN   NaN   NaN   NaN   NaN   NaN   NaN   NaN   NaN   NaN  ...    NaN   \n",
      "5552   NaN   NaN   NaN   NaN   NaN   NaN   NaN   NaN   NaN   NaN  ...    NaN   \n",
      "5553   NaN   NaN   NaN   NaN   NaN   NaN   NaN   NaN   NaN   NaN  ...    NaN   \n",
      "\n",
      "      5545      5546      5547      5548      5549  5550      5551  5552  5553  \n",
      "0      NaN       NaN       NaN       NaN       NaN   NaN       NaN   NaN   NaN  \n",
      "1      NaN       NaN       NaN       NaN       NaN   NaN       NaN   NaN   NaN  \n",
      "2      NaN       NaN       NaN       NaN       NaN   NaN       NaN   NaN   NaN  \n",
      "3      NaN       NaN       NaN       NaN       NaN   NaN       NaN   NaN   NaN  \n",
      "4      NaN       NaN       NaN       NaN       NaN   NaN       NaN   NaN   NaN  \n",
      "5      NaN       NaN       NaN       NaN       NaN   NaN       NaN   NaN   NaN  \n",
      "6      NaN       NaN       NaN       NaN       NaN   NaN       NaN   NaN   NaN  \n",
      "7      NaN       NaN       NaN       NaN       NaN   NaN       NaN   NaN   NaN  \n",
      "8      NaN       NaN       NaN       NaN       NaN   NaN       NaN   NaN   NaN  \n",
      "9      NaN       NaN       NaN       NaN       NaN   NaN       NaN   NaN   NaN  \n",
      "10     NaN       NaN       NaN       NaN       NaN   NaN       NaN   NaN   NaN  \n",
      "11     NaN       NaN       NaN       NaN       NaN   NaN       NaN   NaN   NaN  \n",
      "12     NaN       NaN       NaN       NaN       NaN   NaN       NaN   NaN   NaN  \n",
      "13     NaN       NaN       NaN       NaN       NaN   NaN       NaN   NaN   NaN  \n",
      "14     NaN       NaN       NaN       NaN       NaN   NaN       NaN   NaN   NaN  \n",
      "15     NaN       NaN       NaN       NaN       NaN   NaN       NaN   NaN   NaN  \n",
      "16     NaN       NaN       NaN       NaN       NaN   NaN       NaN   NaN   NaN  \n",
      "17     NaN       NaN       NaN       NaN       NaN   NaN       NaN   NaN   NaN  \n",
      "18     NaN       NaN       NaN       NaN       NaN   NaN       NaN   NaN   NaN  \n",
      "19     NaN -0.671172 -0.846278  0.486811  1.000000   NaN  0.570168   NaN   NaN  \n",
      "20     NaN -0.258542 -0.575005  0.551696  0.290687   NaN  0.402987   NaN   NaN  \n",
      "21     NaN       NaN       NaN       NaN       NaN   NaN       NaN   NaN   NaN  \n",
      "22     NaN       NaN       NaN       NaN       NaN   NaN       NaN   NaN   NaN  \n",
      "23     NaN       NaN       NaN       NaN       NaN   NaN       NaN   NaN   NaN  \n",
      "24     NaN       NaN       NaN       NaN       NaN   NaN       NaN   NaN   NaN  \n",
      "25     NaN       NaN       NaN       NaN       NaN   NaN       NaN   NaN   NaN  \n",
      "26     NaN       NaN       NaN       NaN       NaN   NaN       NaN   NaN   NaN  \n",
      "27     NaN  0.334141  0.848711  0.557288  0.351503   NaN -0.482400   NaN   NaN  \n",
      "28     NaN  0.871954  0.649049 -1.000000       NaN   NaN  0.171202   NaN   NaN  \n",
      "29     NaN       NaN       NaN       NaN       NaN   NaN       NaN   NaN   NaN  \n",
      "...    ...       ...       ...       ...       ...   ...       ...   ...   ...  \n",
      "5524   NaN  1.000000 -1.000000       NaN       NaN   NaN -1.000000   NaN   NaN  \n",
      "5525   NaN       NaN       NaN       NaN       NaN   NaN       NaN   NaN   NaN  \n",
      "5526   NaN       NaN       NaN       NaN       NaN   NaN       NaN   NaN   NaN  \n",
      "5527   NaN       NaN       NaN       NaN       NaN   NaN       NaN   NaN   NaN  \n",
      "5528   NaN       NaN       NaN       NaN       NaN   NaN       NaN   NaN   NaN  \n",
      "5529   NaN       NaN       NaN       NaN       NaN   NaN       NaN   NaN   NaN  \n",
      "5530   NaN       NaN       NaN       NaN       NaN   NaN       NaN   NaN   NaN  \n",
      "5531   NaN       NaN       NaN       NaN       NaN   NaN       NaN   NaN   NaN  \n",
      "5532   NaN -0.482280  0.205607  0.270454 -0.139425   NaN -0.116757   NaN   NaN  \n",
      "5533   NaN       NaN       NaN       NaN       NaN   NaN       NaN   NaN   NaN  \n",
      "5534   NaN       NaN       NaN       NaN       NaN   NaN       NaN   NaN   NaN  \n",
      "5535   NaN       NaN       NaN       NaN       NaN   NaN       NaN   NaN   NaN  \n",
      "5536   NaN       NaN       NaN       NaN       NaN   NaN       NaN   NaN   NaN  \n",
      "5537   NaN       NaN       NaN       NaN       NaN   NaN       NaN   NaN   NaN  \n",
      "5538   NaN       NaN       NaN       NaN       NaN   NaN       NaN   NaN   NaN  \n",
      "5539   NaN       NaN       NaN       NaN       NaN   NaN       NaN   NaN   NaN  \n",
      "5540   NaN -0.250851  0.210996 -0.575463  0.278496   NaN -0.005872   NaN   NaN  \n",
      "5541   NaN       NaN       NaN       NaN       NaN   NaN       NaN   NaN   NaN  \n",
      "5542   NaN -0.518921 -1.000000       NaN  1.000000   NaN  0.942119   NaN   NaN  \n",
      "5543   NaN       NaN       NaN       NaN       NaN   NaN       NaN   NaN   NaN  \n",
      "5544   NaN       NaN       NaN       NaN       NaN   NaN       NaN   NaN   NaN  \n",
      "5545   NaN       NaN       NaN       NaN       NaN   NaN       NaN   NaN   NaN  \n",
      "5546   NaN  1.000000  0.450809  0.405064  0.416682   NaN  0.011001   NaN   NaN  \n",
      "5547   NaN  0.450809  1.000000  0.353730 -1.000000   NaN -0.115808   NaN   NaN  \n",
      "5548   NaN  0.405064  0.353730  1.000000       NaN   NaN  0.950924   NaN   NaN  \n",
      "5549   NaN  0.416682 -1.000000       NaN  1.000000   NaN  0.124446   NaN   NaN  \n",
      "5550   NaN       NaN       NaN       NaN       NaN   NaN       NaN   NaN   NaN  \n",
      "5551   NaN  0.011001 -0.115808  0.950924  0.124446   NaN  1.000000   NaN   NaN  \n",
      "5552   NaN       NaN       NaN       NaN       NaN   NaN       NaN   NaN   NaN  \n",
      "5553   NaN       NaN       NaN       NaN       NaN   NaN       NaN   NaN   NaN  \n",
      "\n",
      "[5554 rows x 5554 columns]\n"
     ]
    }
   ],
   "source": [
    "# Creating matrix of Income YEAR correlations\n",
    "\n",
    "income_transposed = income[avg_income_columns].transpose()\n",
    "income_matrix = income_transposed.corr()\n",
    "print(len(income_matrix))\n",
    "print(income_matrix)\n",
    "income_matrix.to_csv('Bloomberg/income_correlations_year.csv')"
   ]
  },
  {
   "cell_type": "code",
   "execution_count": 18,
   "metadata": {
    "collapsed": true
   },
   "outputs": [],
   "source": [
    "# Adding a column with average correlations\n",
    "\n",
    "income_matrix['Year Avg Corrs'] = income_matrix[income_matrix.columns].mean(axis = 1)\n",
    "corrs['Income Year Corrs'] = (len(income) * income_matrix['Year Avg Corrs'] - 1) / (len(income) - 1)"
   ]
  },
  {
   "cell_type": "code",
   "execution_count": 36,
   "metadata": {
    "collapsed": false
   },
   "outputs": [
    {
     "name": "stdout",
     "output_type": "stream",
     "text": [
      "   1995-03-31  1995-06-30  1995-09-30  1995-12-31  1996-03-31  1996-06-30  \\\n",
      "0         NaN         NaN         NaN         NaN         NaN         NaN   \n",
      "1         NaN         NaN         NaN         NaN         NaN         NaN   \n",
      "2         NaN         NaN         NaN         NaN         NaN         NaN   \n",
      "3         NaN         NaN         NaN         NaN         NaN         NaN   \n",
      "4         NaN         NaN         NaN         NaN         NaN         NaN   \n",
      "\n",
      "   1996-09-30  1996-12-31  1997-03-31  1997-06-30     ...      2014-03-31  \\\n",
      "0         NaN         NaN         NaN         NaN     ...             NaN   \n",
      "1         NaN         NaN         NaN         NaN     ...             NaN   \n",
      "2         NaN         NaN         NaN         NaN     ...             NaN   \n",
      "3         NaN         NaN         NaN         NaN     ...             NaN   \n",
      "4         NaN         NaN         NaN         NaN     ...             NaN   \n",
      "\n",
      "   2014-06-30  2014-09-30  2014-12-31  2015-03-31  2015-06-30  2015-09-30  \\\n",
      "0         NaN         NaN         NaN         NaN         NaN         NaN   \n",
      "1         NaN         NaN         NaN         NaN         NaN         NaN   \n",
      "2         NaN         NaN         NaN         NaN         NaN         NaN   \n",
      "3         NaN         NaN         NaN         NaN         NaN         NaN   \n",
      "4         NaN         NaN         NaN         NaN         NaN         NaN   \n",
      "\n",
      "   2015-12-31  2016-03-31  2016-06-30  \n",
      "0         NaN         NaN         NaN  \n",
      "1         NaN         NaN         NaN  \n",
      "2         NaN         NaN         NaN  \n",
      "3         NaN         NaN         NaN  \n",
      "4         NaN         NaN         NaN  \n",
      "\n",
      "[5 rows x 86 columns]\n"
     ]
    }
   ],
   "source": [
    "# Adding average QUARTER net incomes and check if there are existing values\n",
    "\n",
    "date_columns = list(income.columns)\n",
    "date_columns.pop(0)\n",
    "\n",
    "income_test = income.copy()\n",
    "income_test[date_columns] = income_test[date_columns].where(income_test != 0 , np.nan) \n",
    "\n",
    "# Creating a vector of dates from 31.01.1995 to 30.06.2016\n",
    "avg_income_columns = []\n",
    "for i in range(1995, 2017):\n",
    "    for j in range(1, 13, 3):\n",
    "        avg_income_columns.append(dt.date(i, j, 1) - dt.timedelta(days = 1))\n",
    "avg_income_columns.pop(0)\n",
    "avg_income_columns.pop(len(avg_income_columns)-1)\n",
    "\n",
    "first_date = 0\n",
    "for i in avg_income_columns[:-1]:\n",
    "    last_date = first_date + 3\n",
    "    income_test[i] = income_test[date_columns[first_date : last_date]].mean(axis = 1)\n",
    "    first_date = last_date\n",
    "income_test[dt.date(2016,6,30)] = income_test[date_columns[(len(date_columns) - 3):len(date_columns)]].mean(axis = 1)\n",
    "\n",
    "all_columns = list(income_test.columns)\n",
    "\n",
    "print(income_test[avg_income_columns].head())"
   ]
  },
  {
   "cell_type": "code",
   "execution_count": 37,
   "metadata": {
    "collapsed": false
   },
   "outputs": [
    {
     "name": "stdout",
     "output_type": "stream",
     "text": [
      "   1995-03-31  1995-06-30  1995-09-30  1995-12-31  1996-03-31  1996-06-30  \\\n",
      "0         NaN         NaN         NaN         NaN         NaN         NaN   \n",
      "1         NaN         NaN         NaN         NaN         NaN         NaN   \n",
      "2         NaN         NaN         NaN         NaN         NaN         NaN   \n",
      "3         NaN         NaN         NaN         NaN         NaN         NaN   \n",
      "4         NaN         NaN         NaN         NaN         NaN         NaN   \n",
      "\n",
      "   1996-09-30  1996-12-31  1997-03-31  1997-06-30     ...      2014-03-31  \\\n",
      "0         NaN         NaN         NaN         NaN     ...             NaN   \n",
      "1         NaN         NaN         NaN         NaN     ...             NaN   \n",
      "2         NaN         NaN         NaN         NaN     ...             NaN   \n",
      "3         NaN         NaN         NaN         NaN     ...             NaN   \n",
      "4         NaN         NaN         NaN         NaN     ...             NaN   \n",
      "\n",
      "   2014-06-30  2014-09-30  2014-12-31  2015-03-31  2015-06-30  2015-09-30  \\\n",
      "0         NaN         NaN         NaN         NaN         NaN         NaN   \n",
      "1         NaN         NaN         NaN         NaN         NaN         NaN   \n",
      "2         NaN         NaN         NaN         NaN         NaN         NaN   \n",
      "3         NaN         NaN         NaN         NaN         NaN         NaN   \n",
      "4         NaN         NaN         NaN         NaN         NaN         NaN   \n",
      "\n",
      "   2015-12-31  2016-03-31  2016-06-30  \n",
      "0         NaN         NaN         NaN  \n",
      "1         NaN         NaN         NaN  \n",
      "2         NaN         NaN         NaN  \n",
      "3         NaN         NaN         NaN  \n",
      "4         NaN         NaN         NaN  \n",
      "\n",
      "[5 rows x 86 columns]\n"
     ]
    }
   ],
   "source": [
    "income = income_test.copy()\n",
    "print(income[avg_income_columns].head())"
   ]
  },
  {
   "cell_type": "code",
   "execution_count": 38,
   "metadata": {
    "collapsed": false
   },
   "outputs": [
    {
     "name": "stdout",
     "output_type": "stream",
     "text": [
      "5554\n",
      "      0     1     2     3     4     5     6     7     8     9     ...   5544  \\\n",
      "0      NaN   NaN   NaN   NaN   NaN   NaN   NaN   NaN   NaN   NaN  ...    NaN   \n",
      "1      NaN   NaN   NaN   NaN   NaN   NaN   NaN   NaN   NaN   NaN  ...    NaN   \n",
      "2      NaN   NaN   NaN   NaN   NaN   NaN   NaN   NaN   NaN   NaN  ...    NaN   \n",
      "3      NaN   NaN   NaN   NaN   NaN   NaN   NaN   NaN   NaN   NaN  ...    NaN   \n",
      "4      NaN   NaN   NaN   NaN   NaN   NaN   NaN   NaN   NaN   NaN  ...    NaN   \n",
      "5      NaN   NaN   NaN   NaN   NaN   NaN   NaN   NaN   NaN   NaN  ...    NaN   \n",
      "6      NaN   NaN   NaN   NaN   NaN   NaN   NaN   NaN   NaN   NaN  ...    NaN   \n",
      "7      NaN   NaN   NaN   NaN   NaN   NaN   NaN   NaN   NaN   NaN  ...    NaN   \n",
      "8      NaN   NaN   NaN   NaN   NaN   NaN   NaN   NaN   NaN   NaN  ...    NaN   \n",
      "9      NaN   NaN   NaN   NaN   NaN   NaN   NaN   NaN   NaN   NaN  ...    NaN   \n",
      "10     NaN   NaN   NaN   NaN   NaN   NaN   NaN   NaN   NaN   NaN  ...    NaN   \n",
      "11     NaN   NaN   NaN   NaN   NaN   NaN   NaN   NaN   NaN   NaN  ...    NaN   \n",
      "12     NaN   NaN   NaN   NaN   NaN   NaN   NaN   NaN   NaN   NaN  ...    NaN   \n",
      "13     NaN   NaN   NaN   NaN   NaN   NaN   NaN   NaN   NaN   NaN  ...    NaN   \n",
      "14     NaN   NaN   NaN   NaN   NaN   NaN   NaN   NaN   NaN   NaN  ...    NaN   \n",
      "15     NaN   NaN   NaN   NaN   NaN   NaN   NaN   NaN   NaN   NaN  ...    NaN   \n",
      "16     NaN   NaN   NaN   NaN   NaN   NaN   NaN   NaN   NaN   NaN  ...    NaN   \n",
      "17     NaN   NaN   NaN   NaN   NaN   NaN   NaN   NaN   NaN   NaN  ...    NaN   \n",
      "18     NaN   NaN   NaN   NaN   NaN   NaN   NaN   NaN   NaN   NaN  ...    NaN   \n",
      "19     NaN   NaN   NaN   NaN   NaN   NaN   NaN   NaN   NaN   NaN  ...    NaN   \n",
      "20     NaN   NaN   NaN   NaN   NaN   NaN   NaN   NaN   NaN   NaN  ...    NaN   \n",
      "21     NaN   NaN   NaN   NaN   NaN   NaN   NaN   NaN   NaN   NaN  ...    NaN   \n",
      "22     NaN   NaN   NaN   NaN   NaN   NaN   NaN   NaN   NaN   NaN  ...    NaN   \n",
      "23     NaN   NaN   NaN   NaN   NaN   NaN   NaN   NaN   NaN   NaN  ...    NaN   \n",
      "24     NaN   NaN   NaN   NaN   NaN   NaN   NaN   NaN   NaN   NaN  ...    NaN   \n",
      "25     NaN   NaN   NaN   NaN   NaN   NaN   NaN   NaN   NaN   NaN  ...    NaN   \n",
      "26     NaN   NaN   NaN   NaN   NaN   NaN   NaN   NaN   NaN   NaN  ...    NaN   \n",
      "27     NaN   NaN   NaN   NaN   NaN   NaN   NaN   NaN   NaN   NaN  ...    NaN   \n",
      "28     NaN   NaN   NaN   NaN   NaN   NaN   NaN   NaN   NaN   NaN  ...    NaN   \n",
      "29     NaN   NaN   NaN   NaN   NaN   NaN   NaN   NaN   NaN   NaN  ...    NaN   \n",
      "...    ...   ...   ...   ...   ...   ...   ...   ...   ...   ...  ...    ...   \n",
      "5524   NaN   NaN   NaN   NaN   NaN   NaN   NaN   NaN   NaN   NaN  ...    NaN   \n",
      "5525   NaN   NaN   NaN   NaN   NaN   NaN   NaN   NaN   NaN   NaN  ...    NaN   \n",
      "5526   NaN   NaN   NaN   NaN   NaN   NaN   NaN   NaN   NaN   NaN  ...    NaN   \n",
      "5527   NaN   NaN   NaN   NaN   NaN   NaN   NaN   NaN   NaN   NaN  ...    NaN   \n",
      "5528   NaN   NaN   NaN   NaN   NaN   NaN   NaN   NaN   NaN   NaN  ...    NaN   \n",
      "5529   NaN   NaN   NaN   NaN   NaN   NaN   NaN   NaN   NaN   NaN  ...    NaN   \n",
      "5530   NaN   NaN   NaN   NaN   NaN   NaN   NaN   NaN   NaN   NaN  ...    NaN   \n",
      "5531   NaN   NaN   NaN   NaN   NaN   NaN   NaN   NaN   NaN   NaN  ...    NaN   \n",
      "5532   NaN   NaN   NaN   NaN   NaN   NaN   NaN   NaN   NaN   NaN  ...    NaN   \n",
      "5533   NaN   NaN   NaN   NaN   NaN   NaN   NaN   NaN   NaN   NaN  ...    NaN   \n",
      "5534   NaN   NaN   NaN   NaN   NaN   NaN   NaN   NaN   NaN   NaN  ...    NaN   \n",
      "5535   NaN   NaN   NaN   NaN   NaN   NaN   NaN   NaN   NaN   NaN  ...    NaN   \n",
      "5536   NaN   NaN   NaN   NaN   NaN   NaN   NaN   NaN   NaN   NaN  ...    NaN   \n",
      "5537   NaN   NaN   NaN   NaN   NaN   NaN   NaN   NaN   NaN   NaN  ...    NaN   \n",
      "5538   NaN   NaN   NaN   NaN   NaN   NaN   NaN   NaN   NaN   NaN  ...    NaN   \n",
      "5539   NaN   NaN   NaN   NaN   NaN   NaN   NaN   NaN   NaN   NaN  ...    NaN   \n",
      "5540   NaN   NaN   NaN   NaN   NaN   NaN   NaN   NaN   NaN   NaN  ...    NaN   \n",
      "5541   NaN   NaN   NaN   NaN   NaN   NaN   NaN   NaN   NaN   NaN  ...    NaN   \n",
      "5542   NaN   NaN   NaN   NaN   NaN   NaN   NaN   NaN   NaN   NaN  ...    NaN   \n",
      "5543   NaN   NaN   NaN   NaN   NaN   NaN   NaN   NaN   NaN   NaN  ...    NaN   \n",
      "5544   NaN   NaN   NaN   NaN   NaN   NaN   NaN   NaN   NaN   NaN  ...    NaN   \n",
      "5545   NaN   NaN   NaN   NaN   NaN   NaN   NaN   NaN   NaN   NaN  ...    NaN   \n",
      "5546   NaN   NaN   NaN   NaN   NaN   NaN   NaN   NaN   NaN   NaN  ...    NaN   \n",
      "5547   NaN   NaN   NaN   NaN   NaN   NaN   NaN   NaN   NaN   NaN  ...    NaN   \n",
      "5548   NaN   NaN   NaN   NaN   NaN   NaN   NaN   NaN   NaN   NaN  ...    NaN   \n",
      "5549   NaN   NaN   NaN   NaN   NaN   NaN   NaN   NaN   NaN   NaN  ...    NaN   \n",
      "5550   NaN   NaN   NaN   NaN   NaN   NaN   NaN   NaN   NaN   NaN  ...    NaN   \n",
      "5551   NaN   NaN   NaN   NaN   NaN   NaN   NaN   NaN   NaN   NaN  ...    NaN   \n",
      "5552   NaN   NaN   NaN   NaN   NaN   NaN   NaN   NaN   NaN   NaN  ...    NaN   \n",
      "5553   NaN   NaN   NaN   NaN   NaN   NaN   NaN   NaN   NaN   NaN  ...    NaN   \n",
      "\n",
      "      5545      5546      5547      5548      5549  5550      5551  5552  5553  \n",
      "0      NaN       NaN       NaN       NaN       NaN   NaN       NaN   NaN   NaN  \n",
      "1      NaN       NaN       NaN       NaN       NaN   NaN       NaN   NaN   NaN  \n",
      "2      NaN       NaN       NaN       NaN       NaN   NaN       NaN   NaN   NaN  \n",
      "3      NaN       NaN       NaN       NaN       NaN   NaN       NaN   NaN   NaN  \n",
      "4      NaN       NaN       NaN       NaN       NaN   NaN       NaN   NaN   NaN  \n",
      "5      NaN       NaN       NaN       NaN       NaN   NaN       NaN   NaN   NaN  \n",
      "6      NaN       NaN       NaN       NaN       NaN   NaN       NaN   NaN   NaN  \n",
      "7      NaN       NaN       NaN       NaN       NaN   NaN       NaN   NaN   NaN  \n",
      "8      NaN       NaN       NaN       NaN       NaN   NaN       NaN   NaN   NaN  \n",
      "9      NaN       NaN       NaN       NaN       NaN   NaN       NaN   NaN   NaN  \n",
      "10     NaN       NaN       NaN       NaN       NaN   NaN       NaN   NaN   NaN  \n",
      "11     NaN       NaN       NaN       NaN       NaN   NaN       NaN   NaN   NaN  \n",
      "12     NaN       NaN       NaN       NaN       NaN   NaN       NaN   NaN   NaN  \n",
      "13     NaN       NaN       NaN       NaN       NaN   NaN       NaN   NaN   NaN  \n",
      "14     NaN       NaN       NaN       NaN       NaN   NaN       NaN   NaN   NaN  \n",
      "15     NaN       NaN       NaN       NaN       NaN   NaN       NaN   NaN   NaN  \n",
      "16     NaN       NaN       NaN       NaN       NaN   NaN       NaN   NaN   NaN  \n",
      "17     NaN       NaN       NaN       NaN       NaN   NaN       NaN   NaN   NaN  \n",
      "18     NaN       NaN       NaN       NaN       NaN   NaN       NaN   NaN   NaN  \n",
      "19     NaN -0.428177 -0.761067  0.374426 -1.000000   NaN       NaN   NaN   NaN  \n",
      "20     NaN -0.039022 -0.588122 -0.235749 -0.025513   NaN       NaN   NaN   NaN  \n",
      "21     NaN       NaN       NaN       NaN       NaN   NaN       NaN   NaN   NaN  \n",
      "22     NaN       NaN       NaN       NaN       NaN   NaN       NaN   NaN   NaN  \n",
      "23     NaN       NaN       NaN       NaN       NaN   NaN       NaN   NaN   NaN  \n",
      "24     NaN       NaN       NaN       NaN       NaN   NaN       NaN   NaN   NaN  \n",
      "25     NaN       NaN       NaN       NaN       NaN   NaN       NaN   NaN   NaN  \n",
      "26     NaN       NaN       NaN       NaN       NaN   NaN       NaN   NaN   NaN  \n",
      "27     NaN  0.291416       NaN -0.232558  0.923052   NaN -0.146233   NaN   NaN  \n",
      "28     NaN -0.866765       NaN  1.000000       NaN   NaN  0.055556   NaN   NaN  \n",
      "29     NaN       NaN       NaN       NaN       NaN   NaN       NaN   NaN   NaN  \n",
      "...    ...       ...       ...       ...       ...   ...       ...   ...   ...  \n",
      "5524   NaN -0.142252 -0.577656       NaN  0.431330   NaN  1.000000   NaN   NaN  \n",
      "5525   NaN       NaN       NaN       NaN       NaN   NaN       NaN   NaN   NaN  \n",
      "5526   NaN       NaN       NaN       NaN       NaN   NaN       NaN   NaN   NaN  \n",
      "5527   NaN       NaN       NaN       NaN       NaN   NaN       NaN   NaN   NaN  \n",
      "5528   NaN       NaN       NaN       NaN       NaN   NaN       NaN   NaN   NaN  \n",
      "5529   NaN       NaN       NaN       NaN       NaN   NaN       NaN   NaN   NaN  \n",
      "5530   NaN       NaN       NaN       NaN       NaN   NaN       NaN   NaN   NaN  \n",
      "5531   NaN       NaN       NaN       NaN       NaN   NaN       NaN   NaN   NaN  \n",
      "5532   NaN -0.112579  0.272079  0.837249  0.906601   NaN       NaN   NaN   NaN  \n",
      "5533   NaN       NaN       NaN       NaN       NaN   NaN       NaN   NaN   NaN  \n",
      "5534   NaN       NaN       NaN       NaN       NaN   NaN       NaN   NaN   NaN  \n",
      "5535   NaN       NaN       NaN       NaN       NaN   NaN       NaN   NaN   NaN  \n",
      "5536   NaN       NaN       NaN       NaN       NaN   NaN       NaN   NaN   NaN  \n",
      "5537   NaN       NaN       NaN       NaN       NaN   NaN       NaN   NaN   NaN  \n",
      "5538   NaN       NaN       NaN       NaN       NaN   NaN       NaN   NaN   NaN  \n",
      "5539   NaN       NaN       NaN       NaN       NaN   NaN       NaN   NaN   NaN  \n",
      "5540   NaN -0.001586  0.120546  0.002790  0.774619   NaN -0.105725   NaN   NaN  \n",
      "5541   NaN       NaN       NaN       NaN       NaN   NaN       NaN   NaN   NaN  \n",
      "5542   NaN -0.569227       NaN       NaN -1.000000   NaN  1.000000   NaN   NaN  \n",
      "5543   NaN       NaN       NaN       NaN       NaN   NaN       NaN   NaN   NaN  \n",
      "5544   NaN       NaN       NaN       NaN       NaN   NaN       NaN   NaN   NaN  \n",
      "5545   NaN       NaN       NaN       NaN       NaN   NaN       NaN   NaN   NaN  \n",
      "5546   NaN  1.000000  0.212923  0.192105  0.233009   NaN -0.167459   NaN   NaN  \n",
      "5547   NaN  0.212923  1.000000 -0.341241 -0.827605   NaN       NaN   NaN   NaN  \n",
      "5548   NaN  0.192105 -0.341241  1.000000       NaN   NaN -0.355182   NaN   NaN  \n",
      "5549   NaN  0.233009 -0.827605       NaN  1.000000   NaN -0.543955   NaN   NaN  \n",
      "5550   NaN       NaN       NaN       NaN       NaN   NaN       NaN   NaN   NaN  \n",
      "5551   NaN -0.167459       NaN -0.355182 -0.543955   NaN  1.000000   NaN   NaN  \n",
      "5552   NaN       NaN       NaN       NaN       NaN   NaN       NaN   NaN   NaN  \n",
      "5553   NaN       NaN       NaN       NaN       NaN   NaN       NaN   NaN   NaN  \n",
      "\n",
      "[5554 rows x 5554 columns]\n"
     ]
    }
   ],
   "source": [
    "# Creating matrix of Income QUARTER correlations\n",
    "\n",
    "income_transposed = income[avg_income_columns].transpose()\n",
    "income_matrix = income_transposed.corr()\n",
    "print(len(income_matrix))\n",
    "print(income_matrix)\n",
    "income_matrix.to_csv('Bloomberg/income_correlations_quarter.csv')"
   ]
  },
  {
   "cell_type": "code",
   "execution_count": 39,
   "metadata": {
    "collapsed": true
   },
   "outputs": [],
   "source": [
    "# Adding a column with average correlations\n",
    "\n",
    "income_matrix['Quarter Avg Corrs'] = income_matrix[income_matrix.columns].mean(axis = 1)\n",
    "corrs['Income Quarter Corrs'] = (len(income) * income_matrix['Quarter Avg Corrs'] - 1) / (len(income) - 1)"
   ]
  },
  {
   "cell_type": "code",
   "execution_count": 40,
   "metadata": {
    "collapsed": true
   },
   "outputs": [],
   "source": [
    "corrs.to_csv('Bloomberg/average_corrs.csv')"
   ]
  },
  {
   "cell_type": "code",
   "execution_count": null,
   "metadata": {
    "collapsed": true
   },
   "outputs": [],
   "source": []
  }
 ],
 "metadata": {
  "kernelspec": {
   "display_name": "Python 3",
   "language": "python",
   "name": "python3"
  },
  "language_info": {
   "codemirror_mode": {
    "name": "ipython",
    "version": 3
   },
   "file_extension": ".py",
   "mimetype": "text/x-python",
   "name": "python",
   "nbconvert_exporter": "python",
   "pygments_lexer": "ipython3",
   "version": "3.5.2"
  }
 },
 "nbformat": 4,
 "nbformat_minor": 0
}
